{
 "cells": [
  {
   "cell_type": "markdown",
   "metadata": {},
   "source": [
    "#### Patrick Duffy\n",
    "\n",
    "National Renewable Energy Lab\n",
    "COE Review 2020 - Floating\n",
    "Last updated: 2021/9/24"
   ]
  },
  {
   "cell_type": "code",
   "execution_count": 1,
   "metadata": {},
   "outputs": [],
   "source": [
    "import pandas as pd\n",
    "from ORBIT import ProjectManager, load_config\n",
    "from examples.construction_finance_param import con_fin_params"
   ]
  },
  {
   "cell_type": "markdown",
   "metadata": {},
   "source": [
    "### Load and check the project configuration"
   ]
  },
  {
   "cell_type": "code",
   "execution_count": 2,
   "metadata": {},
   "outputs": [
    {
     "name": "stdout",
     "output_type": "stream",
     "text": [
      "Num turbines: 75\n",
      "Turbine: COE_2020_8MW\n",
      "\n",
      "Site: {'depth': 739, 'distance': 189, 'distance_to_landfall': 36}\n",
      "\n",
      "Design phases: ['ArraySystemDesign', 'ExportSystemDesign', 'MooringSystemDesign', 'OffshoreSubstationDesign', 'SemiSubmersibleDesign']\n",
      "\n",
      "Install phases: ['ArrayCableInstallation', 'ExportCableInstallation', 'MooredSubInstallation', 'MooringSystemInstallation', 'OffshoreSubstationInstallation']\n"
     ]
    }
   ],
   "source": [
    "floating_config = load_config(\"COE_2020_floating_project.yaml\") \n",
    "\n",
    "print(f\"Num turbines: {floating_config['plant']['num_turbines']}\")\n",
    "print(f\"Turbine: {floating_config['turbine']}\")\n",
    "print(f\"\\nSite: {floating_config['site']}\")\n",
    "print(f\"\\nDesign phases: {floating_config['design_phases']}\")\n",
    "print(f\"\\nInstall phases: {list(floating_config['install_phases'].keys())}\")"
   ]
  },
  {
   "cell_type": "markdown",
   "metadata": {},
   "source": [
    "### Run"
   ]
  },
  {
   "cell_type": "code",
   "execution_count": 3,
   "metadata": {},
   "outputs": [
    {
     "name": "stdout",
     "output_type": "stream",
     "text": [
      "ORBIT library intialized at 'c:\\users\\pduffy\\documents\\repos\\wisdem_orbit\\orbit\\library'\n"
     ]
    }
   ],
   "source": [
    "project = ProjectManager(floating_config)\n",
    "d = 0.3 # includes 30% downtime factor during construction to match ORCA\n",
    "project.run(availability=1-d)"
   ]
  },
  {
   "cell_type": "markdown",
   "metadata": {},
   "source": [
    "### Top Level Outputs"
   ]
  },
  {
   "cell_type": "code",
   "execution_count": 4,
   "metadata": {},
   "outputs": [
    {
     "name": "stdout",
     "output_type": "stream",
     "text": [
      "Installation CapEx:  550.11\n",
      "System CapEx:        2368.32\n",
      "BOS CapEx:           2918.43\n",
      "Turbine CapEx:       1301.00\n"
     ]
    }
   ],
   "source": [
    "print(f\"Installation CapEx:  {project.installation_capex_per_kw:.2f}\")\n",
    "print(f\"System CapEx:        {project.system_capex_per_kw:.2f}\")\n",
    "print(f\"BOS CapEx:           {project.bos_capex_per_kw:.2f}\")\n",
    "print(f\"Turbine CapEx:       {project.turbine_capex_per_kw:.2f}\")"
   ]
  },
  {
   "cell_type": "code",
   "execution_count": 5,
   "metadata": {},
   "outputs": [],
   "source": [
    "dct = project.capex_breakdown_per_kw\n",
    "dct = {k:[v] for k,v in dct.items()}\n",
    "df = pd.DataFrame.from_dict(dct, orient=\"columns\")\n",
    "\n",
    "soft_dct = con_fin_params(bos=project.bos_capex, \n",
    "               turbine_capex=project.turbine_capex,\n",
    "               orbit_install_capex=project.installation_capex,\n",
    "               plant_cap=600000)\n",
    "\n",
    "for k,v in soft_dct.items():\n",
    "    if k != \"soft_capex\":\n",
    "        df[k] = v\n",
    "    else:\n",
    "        df[\"Soft\"] = v\n",
    "df = df.T\n",
    "df.to_csv(\"COE_floating_result.csv\")"
   ]
  },
  {
   "cell_type": "code",
   "execution_count": 10,
   "metadata": {},
   "outputs": [
    {
     "data": {
      "text/plain": [
       "{'Array System': 119.81010899777947,\n",
       " 'Export System': 126.32423101563334,\n",
       " 'Substructure': 1267.3571614999998,\n",
       " 'Mooring System': 689.0318508205083,\n",
       " 'Offshore Substation': 165.7985,\n",
       " 'Array System Installation': 50.39122044319276,\n",
       " 'Export System Installation': 190.76978591036053,\n",
       " 'Substructure Installation': 145.310573630137,\n",
       " 'Mooring System Installation': 150.9613910632747,\n",
       " 'Offshore Substation Installation': 12.678772271145903,\n",
       " 'Turbine': 1301.0,\n",
       " 'Soft': 645.0,\n",
       " 'Project': 252.08333333333334}"
      ]
     },
     "execution_count": 10,
     "metadata": {},
     "output_type": "execute_result"
    }
   ],
   "source": [
    "project.capex_breakdown_per_kw"
   ]
  },
  {
   "cell_type": "code",
   "execution_count": 6,
   "metadata": {},
   "outputs": [
    {
     "data": {
      "text/plain": [
       "{'stiffened_column_mass': 1067.8916,\n",
       " 'stiffened_column_cost': 3331821.792,\n",
       " 'truss_mass': 569.2796,\n",
       " 'truss_cost': 3557997.4999999995,\n",
       " 'heave_plate_mass': 321.63919999999996,\n",
       " 'heave_plate_cost': 2010244.9999999998,\n",
       " 'secondary_steel_mass': 170.868,\n",
       " 'secondary_steel_cost': 1238793.0}"
      ]
     },
     "execution_count": 6,
     "metadata": {},
     "output_type": "execute_result"
    }
   ],
   "source": [
    "x = project.phases[\"SemiSubmersibleDesign\"]\n",
    "x.detailed_output"
   ]
  },
  {
   "cell_type": "code",
   "execution_count": 8,
   "metadata": {},
   "outputs": [
    {
     "name": "stdout",
     "output_type": "stream",
     "text": [
      "{'ArrayCableInstallation': 21218312.58614099, 'ExportCableInstallation': 113141808.65919928, 'MooredSubInstallation': 76075397.26027396, 'MooringSystemInstallation': 63613784.2465751, 'OffshoreSubstationInstallation': 5604084.353881278}\n"
     ]
    }
   ],
   "source": [
    "print(project.installation_costs)"
   ]
  },
  {
   "cell_type": "code",
   "execution_count": 9,
   "metadata": {},
   "outputs": [
    {
     "name": "stdout",
     "output_type": "stream",
     "text": [
      "{'ArrayCableInstallation': 71886065.39866768, 'ExportCableInstallation': 75794538.60938, 'MooredSubInstallation': 760414296.9, 'MooringSystemInstallation': 413419110.492305, 'OffshoreSubstationInstallation': 99479100.0}\n"
     ]
    }
   ],
   "source": [
    "print(project.system_costs)"
   ]
  },
  {
   "cell_type": "code",
   "execution_count": 10,
   "metadata": {},
   "outputs": [
    {
     "name": "stdout",
     "output_type": "stream",
     "text": [
      "1700646498.5064235\n"
     ]
    }
   ],
   "source": [
    "print(project.bos_capex)"
   ]
  },
  {
   "cell_type": "markdown",
   "metadata": {},
   "source": [
    "### Phase Specific Outputs"
   ]
  },
  {
   "cell_type": "code",
   "execution_count": 11,
   "metadata": {},
   "outputs": [
    {
     "name": "stdout",
     "output_type": "stream",
     "text": [
      "Substructure Installation:  76 M\n",
      "Substructure Procurement:  760 M\n"
     ]
    }
   ],
   "source": [
    "print(f\"Substructure Installation:  {project.phases['MooredSubInstallation'].installation_capex/1e6:.0f} M\")\n",
    "print(f\"Substructure Procurement:  {project.phases['MooredSubInstallation'].system_capex/1e6:.0f} M\")"
   ]
  },
  {
   "cell_type": "code",
   "execution_count": 12,
   "metadata": {},
   "outputs": [
    {
     "name": "stdout",
     "output_type": "stream",
     "text": [
      "Mooring System Installation:   64 M\n",
      "Mooring System Procurement:   413 M\n"
     ]
    }
   ],
   "source": [
    "print(f\"Mooring System Installation:   {project.phases['MooringSystemInstallation'].installation_capex/1e6:.0f} M\")\n",
    "print(f\"Mooring System Procurement:   {project.phases['MooringSystemInstallation'].system_capex/1e6:.0f} M\")"
   ]
  },
  {
   "cell_type": "code",
   "execution_count": 13,
   "metadata": {},
   "outputs": [],
   "source": [
    "# print(f\"Turbine Installation:  {project.phases['TurbineInstallation'].installation_capex/1e6:.0f} M\")"
   ]
  },
  {
   "cell_type": "code",
   "execution_count": 14,
   "metadata": {},
   "outputs": [
    {
     "name": "stdout",
     "output_type": "stream",
     "text": [
      "Array System Installation: 21 M\n",
      "Array System Procurement:  72 M\n"
     ]
    }
   ],
   "source": [
    "print(f\"Array System Installation: {project.phases['ArrayCableInstallation'].installation_capex/1e6:.0f} M\")\n",
    "print(f\"Array System Procurement:  {project.phases['ArrayCableInstallation'].system_capex/1e6:.0f} M\")"
   ]
  },
  {
   "cell_type": "markdown",
   "metadata": {},
   "source": [
    "### Installation Actions"
   ]
  },
  {
   "cell_type": "code",
   "execution_count": 15,
   "metadata": {},
   "outputs": [
    {
     "name": "stdout",
     "output_type": "stream",
     "text": [
      "{'ArrayCableInstallation': 2718.2244580323763, 'ExportCableInstallation': 397.96586151368757, 'MooredSubInstallation': 8609.4, 'MooringSystemInstallation': 9109.499999999909, 'OffshoreSubstationInstallation': 164.72979999999998}\n"
     ]
    }
   ],
   "source": [
    "print(project.phase_times)"
   ]
  },
  {
   "cell_type": "code",
   "execution_count": 16,
   "metadata": {},
   "outputs": [
    {
     "data": {
      "text/html": [
       "<div>\n",
       "<style scoped>\n",
       "    .dataframe tbody tr th:only-of-type {\n",
       "        vertical-align: middle;\n",
       "    }\n",
       "\n",
       "    .dataframe tbody tr th {\n",
       "        vertical-align: top;\n",
       "    }\n",
       "\n",
       "    .dataframe thead th {\n",
       "        text-align: right;\n",
       "    }\n",
       "</style>\n",
       "<table border=\"1\" class=\"dataframe\">\n",
       "  <thead>\n",
       "    <tr style=\"text-align: right;\">\n",
       "      <th></th>\n",
       "      <th>cost_multiplier</th>\n",
       "      <th>agent</th>\n",
       "      <th>action</th>\n",
       "      <th>duration</th>\n",
       "      <th>cost</th>\n",
       "      <th>level</th>\n",
       "      <th>time</th>\n",
       "      <th>phase</th>\n",
       "      <th>location</th>\n",
       "      <th>phase_name</th>\n",
       "      <th>max_waveheight</th>\n",
       "      <th>max_windspeed</th>\n",
       "      <th>transit_speed</th>\n",
       "      <th>site_depth</th>\n",
       "      <th>num_vessels</th>\n",
       "    </tr>\n",
       "  </thead>\n",
       "  <tbody>\n",
       "    <tr>\n",
       "      <th>0</th>\n",
       "      <td>0.5</td>\n",
       "      <td>Array Cable Installation Vessel</td>\n",
       "      <td>Mobilize</td>\n",
       "      <td>72.000</td>\n",
       "      <td>1.800000e+05</td>\n",
       "      <td>ACTION</td>\n",
       "      <td>0.000</td>\n",
       "      <td>ArrayCableInstallation</td>\n",
       "      <td>NaN</td>\n",
       "      <td>NaN</td>\n",
       "      <td>NaN</td>\n",
       "      <td>NaN</td>\n",
       "      <td>NaN</td>\n",
       "      <td>NaN</td>\n",
       "      <td>NaN</td>\n",
       "    </tr>\n",
       "    <tr>\n",
       "      <th>1</th>\n",
       "      <td>0.5</td>\n",
       "      <td>Export Cable Installation Vessel</td>\n",
       "      <td>Mobilize</td>\n",
       "      <td>72.000</td>\n",
       "      <td>1.800000e+05</td>\n",
       "      <td>ACTION</td>\n",
       "      <td>0.000</td>\n",
       "      <td>ExportCableInstallation</td>\n",
       "      <td>NaN</td>\n",
       "      <td>NaN</td>\n",
       "      <td>NaN</td>\n",
       "      <td>NaN</td>\n",
       "      <td>NaN</td>\n",
       "      <td>NaN</td>\n",
       "      <td>NaN</td>\n",
       "    </tr>\n",
       "    <tr>\n",
       "      <th>2</th>\n",
       "      <td>NaN</td>\n",
       "      <td>Onshore Construction</td>\n",
       "      <td>Onshore Construction</td>\n",
       "      <td>0.000</td>\n",
       "      <td>1.098817e+08</td>\n",
       "      <td>ACTION</td>\n",
       "      <td>0.000</td>\n",
       "      <td>ExportCableInstallation</td>\n",
       "      <td>Landfall</td>\n",
       "      <td>NaN</td>\n",
       "      <td>NaN</td>\n",
       "      <td>NaN</td>\n",
       "      <td>NaN</td>\n",
       "      <td>NaN</td>\n",
       "      <td>NaN</td>\n",
       "    </tr>\n",
       "    <tr>\n",
       "      <th>3</th>\n",
       "      <td>1.0</td>\n",
       "      <td>Mooring System Installation Vessel</td>\n",
       "      <td>Mobilize</td>\n",
       "      <td>168.000</td>\n",
       "      <td>7.000000e+05</td>\n",
       "      <td>ACTION</td>\n",
       "      <td>0.000</td>\n",
       "      <td>MooringSystemInstallation</td>\n",
       "      <td>NaN</td>\n",
       "      <td>NaN</td>\n",
       "      <td>NaN</td>\n",
       "      <td>NaN</td>\n",
       "      <td>NaN</td>\n",
       "      <td>NaN</td>\n",
       "      <td>NaN</td>\n",
       "    </tr>\n",
       "    <tr>\n",
       "      <th>4</th>\n",
       "      <td>0.5</td>\n",
       "      <td>Heavy Lift Vessel</td>\n",
       "      <td>Mobilize</td>\n",
       "      <td>72.000</td>\n",
       "      <td>7.500000e+05</td>\n",
       "      <td>ACTION</td>\n",
       "      <td>0.000</td>\n",
       "      <td>OffshoreSubstationInstallation</td>\n",
       "      <td>NaN</td>\n",
       "      <td>NaN</td>\n",
       "      <td>NaN</td>\n",
       "      <td>NaN</td>\n",
       "      <td>NaN</td>\n",
       "      <td>NaN</td>\n",
       "      <td>NaN</td>\n",
       "    </tr>\n",
       "    <tr>\n",
       "      <th>...</th>\n",
       "      <td>...</td>\n",
       "      <td>...</td>\n",
       "      <td>...</td>\n",
       "      <td>...</td>\n",
       "      <td>...</td>\n",
       "      <td>...</td>\n",
       "      <td>...</td>\n",
       "      <td>...</td>\n",
       "      <td>...</td>\n",
       "      <td>...</td>\n",
       "      <td>...</td>\n",
       "      <td>...</td>\n",
       "      <td>...</td>\n",
       "      <td>...</td>\n",
       "      <td>...</td>\n",
       "    </tr>\n",
       "    <tr>\n",
       "      <th>3669</th>\n",
       "      <td>NaN</td>\n",
       "      <td>Mooring System Installation Vessel</td>\n",
       "      <td>Install Mooring Line</td>\n",
       "      <td>3.695</td>\n",
       "      <td>1.539583e+04</td>\n",
       "      <td>ACTION</td>\n",
       "      <td>9085.110</td>\n",
       "      <td>MooringSystemInstallation</td>\n",
       "      <td>NaN</td>\n",
       "      <td>MooringSystemInstallation</td>\n",
       "      <td>NaN</td>\n",
       "      <td>NaN</td>\n",
       "      <td>NaN</td>\n",
       "      <td>NaN</td>\n",
       "      <td>NaN</td>\n",
       "    </tr>\n",
       "    <tr>\n",
       "      <th>3670</th>\n",
       "      <td>NaN</td>\n",
       "      <td>Mooring System Installation Vessel</td>\n",
       "      <td>Position Onsite</td>\n",
       "      <td>2.000</td>\n",
       "      <td>8.333333e+03</td>\n",
       "      <td>ACTION</td>\n",
       "      <td>9087.110</td>\n",
       "      <td>MooringSystemInstallation</td>\n",
       "      <td>NaN</td>\n",
       "      <td>NaN</td>\n",
       "      <td>NaN</td>\n",
       "      <td>NaN</td>\n",
       "      <td>NaN</td>\n",
       "      <td>NaN</td>\n",
       "      <td>NaN</td>\n",
       "    </tr>\n",
       "    <tr>\n",
       "      <th>3671</th>\n",
       "      <td>NaN</td>\n",
       "      <td>Mooring System Installation Vessel</td>\n",
       "      <td>Perform Mooring Site Survey</td>\n",
       "      <td>4.000</td>\n",
       "      <td>1.666667e+04</td>\n",
       "      <td>ACTION</td>\n",
       "      <td>9091.110</td>\n",
       "      <td>MooringSystemInstallation</td>\n",
       "      <td>NaN</td>\n",
       "      <td>MooringSystemInstallation</td>\n",
       "      <td>NaN</td>\n",
       "      <td>NaN</td>\n",
       "      <td>NaN</td>\n",
       "      <td>NaN</td>\n",
       "      <td>NaN</td>\n",
       "    </tr>\n",
       "    <tr>\n",
       "      <th>3672</th>\n",
       "      <td>NaN</td>\n",
       "      <td>Mooring System Installation Vessel</td>\n",
       "      <td>Install Suction Pile Anchor</td>\n",
       "      <td>14.695</td>\n",
       "      <td>6.122917e+04</td>\n",
       "      <td>ACTION</td>\n",
       "      <td>9105.805</td>\n",
       "      <td>MooringSystemInstallation</td>\n",
       "      <td>NaN</td>\n",
       "      <td>MooringSystemInstallation</td>\n",
       "      <td>NaN</td>\n",
       "      <td>NaN</td>\n",
       "      <td>NaN</td>\n",
       "      <td>NaN</td>\n",
       "      <td>NaN</td>\n",
       "    </tr>\n",
       "    <tr>\n",
       "      <th>3673</th>\n",
       "      <td>NaN</td>\n",
       "      <td>Mooring System Installation Vessel</td>\n",
       "      <td>Install Mooring Line</td>\n",
       "      <td>3.695</td>\n",
       "      <td>1.539583e+04</td>\n",
       "      <td>ACTION</td>\n",
       "      <td>9109.500</td>\n",
       "      <td>MooringSystemInstallation</td>\n",
       "      <td>NaN</td>\n",
       "      <td>MooringSystemInstallation</td>\n",
       "      <td>NaN</td>\n",
       "      <td>NaN</td>\n",
       "      <td>NaN</td>\n",
       "      <td>NaN</td>\n",
       "      <td>NaN</td>\n",
       "    </tr>\n",
       "  </tbody>\n",
       "</table>\n",
       "<p>3674 rows × 15 columns</p>\n",
       "</div>"
      ],
      "text/plain": [
       "      cost_multiplier                               agent  \\\n",
       "0                 0.5     Array Cable Installation Vessel   \n",
       "1                 0.5    Export Cable Installation Vessel   \n",
       "2                 NaN                Onshore Construction   \n",
       "3                 1.0  Mooring System Installation Vessel   \n",
       "4                 0.5                   Heavy Lift Vessel   \n",
       "...               ...                                 ...   \n",
       "3669              NaN  Mooring System Installation Vessel   \n",
       "3670              NaN  Mooring System Installation Vessel   \n",
       "3671              NaN  Mooring System Installation Vessel   \n",
       "3672              NaN  Mooring System Installation Vessel   \n",
       "3673              NaN  Mooring System Installation Vessel   \n",
       "\n",
       "                           action  duration          cost   level      time  \\\n",
       "0                        Mobilize    72.000  1.800000e+05  ACTION     0.000   \n",
       "1                        Mobilize    72.000  1.800000e+05  ACTION     0.000   \n",
       "2            Onshore Construction     0.000  1.098817e+08  ACTION     0.000   \n",
       "3                        Mobilize   168.000  7.000000e+05  ACTION     0.000   \n",
       "4                        Mobilize    72.000  7.500000e+05  ACTION     0.000   \n",
       "...                           ...       ...           ...     ...       ...   \n",
       "3669         Install Mooring Line     3.695  1.539583e+04  ACTION  9085.110   \n",
       "3670              Position Onsite     2.000  8.333333e+03  ACTION  9087.110   \n",
       "3671  Perform Mooring Site Survey     4.000  1.666667e+04  ACTION  9091.110   \n",
       "3672  Install Suction Pile Anchor    14.695  6.122917e+04  ACTION  9105.805   \n",
       "3673         Install Mooring Line     3.695  1.539583e+04  ACTION  9109.500   \n",
       "\n",
       "                               phase  location                 phase_name  \\\n",
       "0             ArrayCableInstallation       NaN                        NaN   \n",
       "1            ExportCableInstallation       NaN                        NaN   \n",
       "2            ExportCableInstallation  Landfall                        NaN   \n",
       "3          MooringSystemInstallation       NaN                        NaN   \n",
       "4     OffshoreSubstationInstallation       NaN                        NaN   \n",
       "...                              ...       ...                        ...   \n",
       "3669       MooringSystemInstallation       NaN  MooringSystemInstallation   \n",
       "3670       MooringSystemInstallation       NaN                        NaN   \n",
       "3671       MooringSystemInstallation       NaN  MooringSystemInstallation   \n",
       "3672       MooringSystemInstallation       NaN  MooringSystemInstallation   \n",
       "3673       MooringSystemInstallation       NaN  MooringSystemInstallation   \n",
       "\n",
       "      max_waveheight  max_windspeed  transit_speed  site_depth  num_vessels  \n",
       "0                NaN            NaN            NaN         NaN          NaN  \n",
       "1                NaN            NaN            NaN         NaN          NaN  \n",
       "2                NaN            NaN            NaN         NaN          NaN  \n",
       "3                NaN            NaN            NaN         NaN          NaN  \n",
       "4                NaN            NaN            NaN         NaN          NaN  \n",
       "...              ...            ...            ...         ...          ...  \n",
       "3669             NaN            NaN            NaN         NaN          NaN  \n",
       "3670             NaN            NaN            NaN         NaN          NaN  \n",
       "3671             NaN            NaN            NaN         NaN          NaN  \n",
       "3672             NaN            NaN            NaN         NaN          NaN  \n",
       "3673             NaN            NaN            NaN         NaN          NaN  \n",
       "\n",
       "[3674 rows x 15 columns]"
      ]
     },
     "execution_count": 16,
     "metadata": {},
     "output_type": "execute_result"
    }
   ],
   "source": [
    "pd.DataFrame(project.actions)"
   ]
  },
  {
   "cell_type": "code",
   "execution_count": 17,
   "metadata": {},
   "outputs": [
    {
     "name": "stdout",
     "output_type": "stream",
     "text": [
      "phase\n",
      "ArrayCableInstallation             116.259352\n",
      "ExportCableInstallation             19.581911\n",
      "MooredSubInstallation             1773.487500\n",
      "MooringSystemInstallation          386.562500\n",
      "OffshoreSubstationInstallation      19.454567\n",
      "Name: duration, dtype: float64\n"
     ]
    }
   ],
   "source": [
    "d = pd.DataFrame(project.actions)\n",
    "c = d.groupby('phase')\n",
    "print(c['duration'].sum()/24)"
   ]
  },
  {
   "cell_type": "code",
   "execution_count": 18,
   "metadata": {},
   "outputs": [
    {
     "name": "stdout",
     "output_type": "stream",
     "text": [
      "action\n",
      "ActiveFeeder                                  1.965825\n",
      "Attach Topside                                0.500000\n",
      "Ballast to Operational Draft                 18.750000\n",
      "Ballast to Towing Draft                      18.750000\n",
      "Bolt TP                                       0.333333\n",
      "Check Mooring Lines                          37.500000\n",
      "Connect Mooring Lines                        68.750000\n",
      "Crane Reequip                                 0.166667\n",
      "Delay                                       214.937500\n",
      "Delay: No Completed Assemblies Available     11.062500\n",
      "Delay: No Substructures in Wet Storage      232.500000\n",
      "Drive Monopile                                0.125000\n",
      "Fasten Monopile                               1.000000\n",
      "Fasten Topside                                1.000000\n",
      "Install Mooring Line                         46.187500\n",
      "Install Suction Pile Anchor                 183.687500\n",
      "Lay/Bury Cable                               37.306118\n",
      "Lift Topside                                  0.004167\n",
      "Lift and Attach Blade                        32.812500\n",
      "Lift and Attach Nacelle                      21.875000\n",
      "Lift and Attach Tower Section               112.500000\n",
      "Load Cable                                    1.000000\n",
      "Load Mooring System                          15.625000\n",
      "Lower Cable                                   3.208333\n",
      "Lower Monopile                                0.006242\n",
      "Mechanical Completion                        75.000000\n",
      "Mobilize                                     26.000000\n",
      "Move Substructure                            25.000000\n",
      "Onshore Construction                          0.000000\n",
      "Perform Mooring Site Survey                  50.000000\n",
      "Position Onsite                              31.583333\n",
      "Position Substructure                         6.250000\n",
      "Positioning Support                         132.037500\n",
      "Prepare Cable                                 6.333333\n",
      "Prepare for Turbine Assembly                 37.500000\n",
      "Pull In Cable                                35.291667\n",
      "Pull Winch                                    0.100000\n",
      "Release Monopile                              0.250000\n",
      "Release Topside                               0.166667\n",
      "RovSurvey                                     0.083333\n",
      "Substructure Assembly                       525.000000\n",
      "Terminate Cable                              35.291667\n",
      "Tow Plow                                      0.100000\n",
      "Tow Substructure                             98.437500\n",
      "Transit                                     168.743478\n",
      "Upend Monopile                                0.624167\n",
      "Name: duration, dtype: float64\n"
     ]
    }
   ],
   "source": [
    "da = pd.DataFrame(project.actions)\n",
    "ca = da.groupby('action')\n",
    "print(ca['duration'].sum()/24)"
   ]
  },
  {
   "cell_type": "code",
   "execution_count": 19,
   "metadata": {},
   "outputs": [
    {
     "name": "stdout",
     "output_type": "stream",
     "text": [
      "{'Array System': 71886065.39866768, 'Export System': 75794538.60938, 'Substructure': 760414296.9, 'Mooring System': 413419110.492305, 'Offshore Substation': 99479100.0, 'Array System Installation': 21218312.58614099, 'Export System Installation': 113141808.65919928, 'Substructure Installation': 76075397.26027396, 'Mooring System Installation': 63613784.2465751, 'Offshore Substation Installation': 5604084.353881278, 'Turbine': 736200000.0, 'Soft': 387000000, 'Project': 151250000.0}\n"
     ]
    }
   ],
   "source": [
    "print(project.capex_breakdown)"
   ]
  },
  {
   "cell_type": "code",
   "execution_count": 20,
   "metadata": {},
   "outputs": [
    {
     "name": "stdout",
     "output_type": "stream",
     "text": [
      "{'Array System': 119.81010899777947, 'Export System': 126.32423101563334, 'Substructure': 1267.3571614999998, 'Mooring System': 689.0318508205083, 'Offshore Substation': 165.7985, 'Array System Installation': 35.363854310234984, 'Export System Installation': 188.56968109866548, 'Substructure Installation': 126.79232876712327, 'Mooring System Installation': 106.02297374429183, 'Offshore Substation Installation': 9.34014058980213, 'Turbine': 1227.0, 'Soft': 645.0, 'Project': 252.08333333333334}\n"
     ]
    }
   ],
   "source": [
    "print(project.capex_breakdown_per_kw)"
   ]
  },
  {
   "cell_type": "code",
   "execution_count": null,
   "metadata": {},
   "outputs": [],
   "source": []
  }
 ],
 "metadata": {
  "interpreter": {
   "hash": "af4f01e5260031a38e74f542585515b6f3faa380f4590a784df38501f6339432"
  },
  "kernelspec": {
   "display_name": "Python 3.7.9 64-bit ('wisdem_orbit': conda)",
   "name": "python3"
  },
  "language_info": {
   "codemirror_mode": {
    "name": "ipython",
    "version": 3
   },
   "file_extension": ".py",
   "mimetype": "text/x-python",
   "name": "python",
   "nbconvert_exporter": "python",
   "pygments_lexer": "ipython3",
   "version": "3.7.9"
  }
 },
 "nbformat": 4,
 "nbformat_minor": 4
}
