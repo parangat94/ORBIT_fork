{
 "cells": [
  {
   "cell_type": "markdown",
   "id": "88b21526",
   "metadata": {},
   "source": [
    "# <center>Setup ORBIT</center>"
   ]
  },
  {
   "cell_type": "code",
   "execution_count": 1,
   "id": "500455cb",
   "metadata": {},
   "outputs": [],
   "source": [
    "import pandas as pd\n",
    "from ORBIT import ProjectManager, load_config\n",
    "from construction_finance_param import con_fin_params\n",
    "import numpy as np\n",
    "import matplotlib.pyplot as plt\n",
    "# Path to save plots and other data:\n",
    "path = '/Users/pbhaskar/Desktop/cowe2022/osw_fixed/'"
   ]
  },
  {
   "cell_type": "markdown",
   "id": "9532b6f3",
   "metadata": {},
   "source": [
    "# <center> Load and check the project configuration</center>"
   ]
  },
  {
   "cell_type": "code",
   "execution_count": 2,
   "id": "d44d2faf",
   "metadata": {},
   "outputs": [
    {
     "name": "stdout",
     "output_type": "stream",
     "text": [
      "Num turbines: 75\n",
      "Turbine: COE_2020_8MW\n",
      "\n",
      "Site: {'depth': 34.0, 'distance': 116, 'distance_to_landfall': 50, 'mean_windspeed': 9.03}\n",
      "\n",
      "Design phases: ['ArraySystemDesign', 'MonopileDesign', 'ScourProtectionDesign', 'ExportSystemDesign', 'OffshoreSubstationDesign']\n",
      "\n",
      "Install phases: ['ArrayCableInstallation', 'ExportCableInstallation', 'MonopileInstallation', 'OffshoreSubstationInstallation', 'ScourProtectionInstallation', 'TurbineInstallation']\n"
     ]
    }
   ],
   "source": [
    "fixed_config = load_config(\"COE_2020_fixed_project.yaml\") \n",
    "\n",
    "print(f\"Num turbines: {fixed_config['plant']['num_turbines']}\")\n",
    "print(f\"Turbine: {fixed_config['turbine']}\")\n",
    "print(f\"\\nSite: {fixed_config['site']}\")\n",
    "print(f\"\\nDesign phases: {fixed_config['design_phases']}\")\n",
    "print(f\"\\nInstall phases: {list(fixed_config['install_phases'].keys())}\")"
   ]
  },
  {
   "cell_type": "markdown",
   "id": "6655bb39",
   "metadata": {},
   "source": [
    "# <center> Run </center>"
   ]
  },
  {
   "cell_type": "code",
   "execution_count": 3,
   "id": "e9c3d73b",
   "metadata": {},
   "outputs": [
    {
     "name": "stdout",
     "output_type": "stream",
     "text": [
      "ORBIT library intialized at '/Users/pbhaskar/Desktop/Projects/orbit/ORBIT/library'\n"
     ]
    }
   ],
   "source": [
    "project = ProjectManager(fixed_config)\n",
    "d = 0.3 # includes 30% downtime factor during construction to match ORCA\n",
    "project.run(availability=1-d)"
   ]
  },
  {
   "cell_type": "markdown",
   "id": "e180d0bd",
   "metadata": {},
   "source": [
    "# <center> Top Level Outputs </center>"
   ]
  },
  {
   "cell_type": "code",
   "execution_count": 4,
   "id": "015f931b",
   "metadata": {},
   "outputs": [
    {
     "name": "stdout",
     "output_type": "stream",
     "text": [
      "Installation CapEx:  564.19\n",
      "System CapEx:        862.24\n",
      "BOS CapEx:           1426.43\n",
      "Turbine CapEx:       1300.00\n"
     ]
    }
   ],
   "source": [
    "print(f\"Installation CapEx:  {project.installation_capex_per_kw:.2f}\")\n",
    "print(f\"System CapEx:        {project.system_capex_per_kw:.2f}\")\n",
    "print(f\"BOS CapEx:           {project.bos_capex_per_kw:.2f}\")\n",
    "print(f\"Turbine CapEx:       {project.turbine_capex_per_kw:.2f}\")"
   ]
  },
  {
   "cell_type": "code",
   "execution_count": 5,
   "id": "5eeee23c",
   "metadata": {},
   "outputs": [
    {
     "name": "stdout",
     "output_type": "stream",
     "text": [
      "{'Array System': [64.70783785293334], 'Export System': [167.263], 'Offshore Substation': [165.7985], 'Scour Protection': [15.515], 'Substructure': [448.95387926992106], 'Array System Installation': [44.729233336870436], 'Export System Installation': [195.4978050521689], 'Offshore Substation Installation': [10.666952953540624], 'Scour Protection Installation': [73.09028049576], 'Substructure Installation': [78.72645251655332], 'Turbine Installation': [161.4837736464446], 'Turbine': [1300.0], 'Soft': [645.0], 'Project': [252.08333333333334]}\n",
      "{'soft_capex': 616.8809893694155, 'construction_insurance_capex': 31.353976223928207, 'decomissioning_costs': 97.32355090523076, 'construction_financing': 137.87368672130273, 'procurement_contingency_costs': 124.32869748456412, 'install_contingency_costs': 194.64710181046152, 'project_completion_capex': 31.353976223928207}\n",
      "                                            0\n",
      "Array System                        64.707838\n",
      "Export System                      167.263000\n",
      "Offshore Substation                165.798500\n",
      "Scour Protection                    15.515000\n",
      "Substructure                       448.953879\n",
      "Array System Installation           44.729233\n",
      "Export System Installation         195.497805\n",
      "Offshore Substation Installation    10.666953\n",
      "Scour Protection Installation       73.090280\n",
      "Substructure Installation           78.726453\n",
      "Turbine Installation               161.483774\n",
      "Turbine                           1300.000000\n",
      "Soft                               616.880989\n",
      "Project                            252.083333\n",
      "construction_insurance_capex        31.353976\n",
      "decomissioning_costs                97.323551\n",
      "construction_financing             137.873687\n",
      "procurement_contingency_costs      124.328697\n",
      "install_contingency_costs          194.647102\n",
      "project_completion_capex            31.353976\n"
     ]
    }
   ],
   "source": [
    "dct = project.capex_breakdown_per_kw\n",
    "dct = {k:[v] for k,v in dct.items()}\n",
    "print(dct)\n",
    "df = pd.DataFrame.from_dict(dct, orient=\"columns\")\n",
    "\n",
    "soft_dct = con_fin_params(bos=project.bos_capex, \n",
    "               turbine_capex=project.turbine_capex,\n",
    "               orbit_install_capex=project.installation_capex,\n",
    "               plant_cap=600000)\n",
    "print(soft_dct)\n",
    "for k,v in soft_dct.items():\n",
    "    if k != \"soft_capex\":\n",
    "        df[k] = v\n",
    "    else:\n",
    "        df[\"Soft\"] = v\n",
    "df = df.T\n",
    "print(df)\n",
    "df.to_csv(\"COE_fixed_result.csv\")"
   ]
  },
  {
   "cell_type": "markdown",
   "id": "f617a601",
   "metadata": {},
   "source": [
    "<br/><br/>\n",
    "# <center>Assign Variables to ORBIT Calculated Values</center>"
   ]
  },
  {
   "cell_type": "code",
   "execution_count": 6,
   "id": "f0722fe6",
   "metadata": {},
   "outputs": [],
   "source": [
    "# Capex: 1462\n",
    "capex = 1462\n",
    "\n",
    "# Turbine: 1021 $/kW\n",
    "turbine_capex_kW = project.turbine_capex_per_kw\n",
    "\n",
    "# BOS : 319 $/kW\n",
    "development_kW = 0.015 * capex   #<><><><><><><> Not in CAPEX breakdown <><><><><><><>\n",
    "substructure_foundation_kW = dct['Substructure'][0]\n",
    "electrical_infrastructure_kW = 0.117 * capex  #<><><><><><><> Not in CAPEX breakdown <><><><><><><>\n",
    "assembly_installation_kW = 0.069 * capex  #<><><><><><><> Not in CAPEX breakdown <><><><><><><>\n",
    "lease_price_kW = 0.03 * capex    #<><><><><><><> Not in CAPEX breakdown <><><><><><><>\n",
    "bos_capex_kW = lease_price_kW + assembly_installation_kW + electrical_infrastructure_kW + substructure_foundation_kW + development_kW\n",
    "\n",
    "\n",
    "# print(soft_dct['decomissioning_costs'])\n",
    "# Soft Costs\n",
    "plant_commissioning_kW = 0.006 * capex    #<><><><><><><> Not in CAPEX breakdown <><><><><><><>\n",
    "decommissioning_kW = soft_dct['decomissioning_costs']\n",
    "contingency_kW = soft_dct['procurement_contingency_costs'] = soft_dct['install_contingency_costs']\n",
    "construction_finance_kW = soft_dct['construction_financing']\n",
    "insurance_during_construction_kW = soft_dct['construction_insurance_capex']\n",
    "soft_costs_kW = insurance_during_construction_kW + \\\n",
    "                construction_finance_kW + \\\n",
    "                contingency_kW + \\\n",
    "                decommissioning_kW + \\\n",
    "                plant_commissioning_kW\n",
    "    \n",
    "\n",
    "# O&M\n",
    "o_and_m_kW = 0.336 * capex\n"
   ]
  },
  {
   "cell_type": "markdown",
   "id": "f52d918f",
   "metadata": {},
   "source": [
    "<br/><br/>\n",
    "# <center>Figure ES2. Component-level LCOE contribution for the 2020 fixed-bottom offshore wind\n",
    "reference project operating for 25 years</center>"
   ]
  },
  {
   "cell_type": "code",
   "execution_count": 7,
   "id": "adf5b271",
   "metadata": {},
   "outputs": [
    {
     "data": {
      "image/png": "[encoded data removed]",
      "text/plain": [
       "<Figure size 720x720 with 1 Axes>"
      ]
     },
     "metadata": {},
     "output_type": "display_data"
    }
   ],
   "source": [
    "# Plot\n",
    "start_angle = -90\n",
    "plt.figure(figsize=(10,10))\n",
    "names = ['Turbine',\n",
    "         \n",
    "         'O&M',\n",
    "         \n",
    "         'Insurance During Construction',            # \n",
    "         'Construction Finance',   #\n",
    "         'Contingency',\n",
    "         'Decommissioning',\n",
    "         'Plant Commissioning',\n",
    "         \n",
    "         'Lease Price',\n",
    "         'Assembly and Installation',\n",
    "         'Electrical Infrastructure',\n",
    "         'Substructure & Foundation',\n",
    "         'Development']              #\n",
    "\n",
    "sub_colors = ['yellowgreen',\n",
    "              \n",
    "              'yellow', \n",
    "              \n",
    "              'lightpink',\n",
    "              'indigo',\n",
    "              'purple', \n",
    "              'rebeccapurple', \n",
    "              'violet',\n",
    "              \n",
    "              'mediumblue',\n",
    "              'royalblue', \n",
    "              'cornflowerblue',\n",
    "              'lightsteelblue', \n",
    "              'lightskyblue']\n",
    "\n",
    "size = [turbine_capex_kW, \n",
    "        \n",
    "        o_and_m_kW,\n",
    "        \n",
    "        insurance_during_construction_kW, \n",
    "        construction_finance_kW, \n",
    "        contingency_kW,\n",
    "        decommissioning_kW,\n",
    "        plant_commissioning_kW,\n",
    "        \n",
    "        lease_price_kW,\n",
    "        assembly_installation_kW, \n",
    "        electrical_infrastructure_kW,\n",
    "        substructure_foundation_kW,\n",
    "        development_kW]\n",
    "\n",
    "# Plot\n",
    "\n",
    "# Internal Pies\n",
    "sub_names = ['Turbine', 'O&M', 'Soft Costs', 'Balance of System']\n",
    "\n",
    "a = 'white'\n",
    "sub_size = [turbine_capex_kW, o_and_m_kW, soft_costs_kW, bos_capex_kW]\n",
    "\n",
    "plt.pie(size, \n",
    "        labels = names, \n",
    "        startangle=start_angle,\n",
    "        colors = sub_colors,\n",
    "        rotatelabels=True,\n",
    "        radius= 1.0, \n",
    "        labeldistance=1.1,\n",
    "        textprops ={'fontsize':12, 'color': \"black\"},\n",
    "        wedgeprops = {'linewidth' : 1, 'edgecolor' : \"black\" }) \n",
    "\n",
    "no_color = 'w'\n",
    "plt.pie(size, \n",
    "#         labels = names, \n",
    "        startangle=start_angle,\n",
    "        autopct = '%1.1f%%', \n",
    "        rotatelabels=True,\n",
    "        pctdistance = 0.9,\n",
    "#         colors = [no_color],\n",
    "        colors = sub_colors,\n",
    "        radius= 1.0, \n",
    "#         labeldistance=1.1,\n",
    "        textprops={'fontweight': 'bold', \n",
    "                   'fontsize':9, \n",
    "                   'color': \"black\"},\n",
    "        wedgeprops = {'linewidth' : 1, 'edgecolor' : \"black\" }) \n",
    "\n",
    "\n",
    "\n",
    "# Internal Pies\n",
    "plt.pie(sub_size,\n",
    "        autopct = '%1.1f%%', \n",
    "        pctdistance = 0.89,\n",
    "        rotatelabels=True,\n",
    "        startangle=start_angle, \n",
    "        radius= 0.80, \n",
    "        textprops ={\n",
    "            'fontweight': 'bold' ,\n",
    "            'fontsize':12, \n",
    "            'color': \"black\"}, \n",
    "        wedgeprops = {'linewidth' : 1, 'edgecolor' : \"black\" } )\n",
    "\n",
    "plt.pie(sub_size,\n",
    "        startangle=start_angle, \n",
    "        labeldistance =0.07, \n",
    "        labels = sub_names,\n",
    "        rotatelabels=True,\n",
    "        radius= 0.80, \n",
    "        colors=[a, a, a],\n",
    "        # Labeling for internal pie chart (Turbine, BOS, Financial)\n",
    "        textprops ={'fontsize':13, 'color': \"black\"}, \n",
    "        wedgeprops = {'linewidth' : 1, 'edgecolor' : \"black\" } )\n",
    "\n",
    "\n",
    "\n",
    "# show it\n",
    "# plt.update_traces()\n",
    "# plt.legend()\n",
    "plt.tight_layout()\n",
    "plt.savefig(path + 'fig_es2.eps', format='eps', dpi=1000)\n",
    "plt.show()\n",
    "\n"
   ]
  },
  {
   "cell_type": "markdown",
   "id": "004aa989",
   "metadata": {},
   "source": [
    "<br/><br/>\n",
    "# <center>Figure ES6.  Fixed-bottom offshore wind power plant assumption and ranges for key LCOE input parameters"
   ]
  },
  {
   "cell_type": "code",
   "execution_count": 10,
   "id": "687f4ea7",
   "metadata": {},
   "outputs": [
    {
     "data": {
      "application/vnd.plotly.v1+json": {
       "config": {
        "plotlyServerURL": "https://plot.ly"
       },
       "data": [
        {
         "base": 77,
         "marker": {
          "color": [
           "rgb(51,153,255)",
           "rgb(102, 166, 30)",
           "rgb(230, 131, 16)",
           "rgb(153, 153, 153)",
           "rgb(51, 34, 136)"
          ],
          "colorscale": [
           [
            0,
            "rgb(51,153,255)"
           ],
           [
            0.25,
            "rgb(102, 166, 30)"
           ],
           [
            0.5,
            "rgb(230, 131, 16)"
           ],
           [
            0.75,
            "rgb(153, 153, 153)"
           ],
           [
            1,
            "rgb(51, 34, 136)"
           ]
          ],
          "line": {
           "width": 1.5
          }
         },
         "orientation": "h",
         "text": [
          "15",
          "6.6",
          "35",
          "166",
          "6059"
         ],
         "textfont": {
          "color": "white"
         },
         "textposition": "auto",
         "type": "bar",
         "x": [
          23,
          8,
          28,
          13,
          33
         ],
         "y": [
          "Project Design Life (years)",
          "Discount Rate (nominal) [%]",
          "Net Capacity Factor (%)",
          "OpEx ($/kW/yr)",
          "CapEx ($/kW)"
         ]
        },
        {
         "base": 77,
         "marker": {
          "color": [
           "rgb(51,153,255)",
           "rgb(102, 166, 30)",
           "rgb(230, 131, 16)",
           "rgb(153, 153, 153)",
           "rgb(51, 34, 136)"
          ],
          "colorscale": [
           [
            0,
            "rgb(51,153,255)"
           ],
           [
            0.25,
            "rgb(102, 166, 30)"
           ],
           [
            0.5,
            "rgb(230, 131, 16)"
           ],
           [
            0.75,
            "rgb(153, 153, 153)"
           ],
           [
            1,
            "rgb(51, 34, 136)"
           ]
          ]
         },
         "orientation": "h",
         "text": [
          "25",
          "5.3",
          "48.9",
          "110",
          "3756"
         ],
         "textfont": {
          "color": "white"
         },
         "textposition": "auto",
         "type": "bar",
         "x": [
          0.001,
          0.001,
          0.001,
          0.001,
          0.001
         ],
         "y": [
          "Project Design Life (years)",
          "Discount Rate (nominal) [%]",
          "Net Capacity Factor (%)",
          "OpEx ($/kW/yr)",
          "CapEx ($/kW)"
         ]
        },
        {
         "base": 77,
         "marker": {
          "color": [
           "rgb(51,153,255)",
           "rgb(102, 166, 30)",
           "rgb(230, 131, 16)",
           "rgb(153, 153, 153)",
           "rgb(51, 34, 136)"
          ],
          "colorscale": [
           [
            0,
            "rgb(51,153,255)"
           ],
           [
            0.25,
            "rgb(102, 166, 30)"
           ],
           [
            0.5,
            "rgb(230, 131, 16)"
           ],
           [
            0.75,
            "rgb(153, 153, 153)"
           ],
           [
            1,
            "rgb(51, 34, 136)"
           ]
          ]
         },
         "orientation": "h",
         "text": [
          "35",
          "4.0",
          "50.0",
          "55",
          "2045"
         ],
         "textfont": {
          "color": "white"
         },
         "textposition": "inside",
         "type": "bar",
         "x": [
          -4,
          -7,
          -2,
          -12,
          -27
         ],
         "y": [
          "Project Design Life (years)",
          "Discount Rate (nominal) [%]",
          "Net Capacity Factor (%)",
          "OpEx ($/kW/yr)",
          "CapEx ($/kW)"
         ]
        }
       ],
       "layout": {
        "bargap": 0.3,
        "barmode": "overlay",
        "height": 500,
        "margin": {
         "b": 10,
         "l": 10,
         "r": 10,
         "t": 50
        },
        "paper_bgcolor": "white",
        "plot_bgcolor": "white",
        "showlegend": false,
        "template": {
         "data": {
          "bar": [
           {
            "error_x": {
             "color": "#2a3f5f"
            },
            "error_y": {
             "color": "#2a3f5f"
            },
            "marker": {
             "line": {
              "color": "#E5ECF6",
              "width": 0.5
             },
             "pattern": {
              "fillmode": "overlay",
              "size": 10,
              "solidity": 0.2
             }
            },
            "type": "bar"
           }
          ],
          "barpolar": [
           {
            "marker": {
             "line": {
              "color": "#E5ECF6",
              "width": 0.5
             },
             "pattern": {
              "fillmode": "overlay",
              "size": 10,
              "solidity": 0.2
             }
            },
            "type": "barpolar"
           }
          ],
          "carpet": [
           {
            "aaxis": {
             "endlinecolor": "#2a3f5f",
             "gridcolor": "white",
             "linecolor": "white",
             "minorgridcolor": "white",
             "startlinecolor": "#2a3f5f"
            },
            "baxis": {
             "endlinecolor": "#2a3f5f",
             "gridcolor": "white",
             "linecolor": "white",
             "minorgridcolor": "white",
             "startlinecolor": "#2a3f5f"
            },
            "type": "carpet"
           }
          ],
          "choropleth": [
           {
            "colorbar": {
             "outlinewidth": 0,
             "ticks": ""
            },
            "type": "choropleth"
           }
          ],
          "contour": [
           {
            "colorbar": {
             "outlinewidth": 0,
             "ticks": ""
            },
            "colorscale": [
             [
              0,
              "#0d0887"
             ],
             [
              0.1111111111111111,
              "#46039f"
             ],
             [
              0.2222222222222222,
              "#7201a8"
             ],
             [
              0.3333333333333333,
              "#9c179e"
             ],
             [
              0.4444444444444444,
              "#bd3786"
             ],
             [
              0.5555555555555556,
              "#d8576b"
             ],
             [
              0.6666666666666666,
              "#ed7953"
             ],
             [
              0.7777777777777778,
              "#fb9f3a"
             ],
             [
              0.8888888888888888,
              "#fdca26"
             ],
             [
              1,
              "#f0f921"
             ]
            ],
            "type": "contour"
           }
          ],
          "contourcarpet": [
           {
            "colorbar": {
             "outlinewidth": 0,
             "ticks": ""
            },
            "type": "contourcarpet"
           }
          ],
          "heatmap": [
           {
            "colorbar": {
             "outlinewidth": 0,
             "ticks": ""
            },
            "colorscale": [
             [
              0,
              "#0d0887"
             ],
             [
              0.1111111111111111,
              "#46039f"
             ],
             [
              0.2222222222222222,
              "#7201a8"
             ],
             [
              0.3333333333333333,
              "#9c179e"
             ],
             [
              0.4444444444444444,
              "#bd3786"
             ],
             [
              0.5555555555555556,
              "#d8576b"
             ],
             [
              0.6666666666666666,
              "#ed7953"
             ],
             [
              0.7777777777777778,
              "#fb9f3a"
             ],
             [
              0.8888888888888888,
              "#fdca26"
             ],
             [
              1,
              "#f0f921"
             ]
            ],
            "type": "heatmap"
           }
          ],
          "heatmapgl": [
           {
            "colorbar": {
             "outlinewidth": 0,
             "ticks": ""
            },
            "colorscale": [
             [
              0,
              "#0d0887"
             ],
             [
              0.1111111111111111,
              "#46039f"
             ],
             [
              0.2222222222222222,
              "#7201a8"
             ],
             [
              0.3333333333333333,
              "#9c179e"
             ],
             [
              0.4444444444444444,
              "#bd3786"
             ],
             [
              0.5555555555555556,
              "#d8576b"
             ],
             [
              0.6666666666666666,
              "#ed7953"
             ],
             [
              0.7777777777777778,
              "#fb9f3a"
             ],
             [
              0.8888888888888888,
              "#fdca26"
             ],
             [
              1,
              "#f0f921"
             ]
            ],
            "type": "heatmapgl"
           }
          ],
          "histogram": [
           {
            "marker": {
             "pattern": {
              "fillmode": "overlay",
              "size": 10,
              "solidity": 0.2
             }
            },
            "type": "histogram"
           }
          ],
          "histogram2d": [
           {
            "colorbar": {
             "outlinewidth": 0,
             "ticks": ""
            },
            "colorscale": [
             [
              0,
              "#0d0887"
             ],
             [
              0.1111111111111111,
              "#46039f"
             ],
             [
              0.2222222222222222,
              "#7201a8"
             ],
             [
              0.3333333333333333,
              "#9c179e"
             ],
             [
              0.4444444444444444,
              "#bd3786"
             ],
             [
              0.5555555555555556,
              "#d8576b"
             ],
             [
              0.6666666666666666,
              "#ed7953"
             ],
             [
              0.7777777777777778,
              "#fb9f3a"
             ],
             [
              0.8888888888888888,
              "#fdca26"
             ],
             [
              1,
              "#f0f921"
             ]
            ],
            "type": "histogram2d"
           }
          ],
          "histogram2dcontour": [
           {
            "colorbar": {
             "outlinewidth": 0,
             "ticks": ""
            },
            "colorscale": [
             [
              0,
              "#0d0887"
             ],
             [
              0.1111111111111111,
              "#46039f"
             ],
             [
              0.2222222222222222,
              "#7201a8"
             ],
             [
              0.3333333333333333,
              "#9c179e"
             ],
             [
              0.4444444444444444,
              "#bd3786"
             ],
             [
              0.5555555555555556,
              "#d8576b"
             ],
             [
              0.6666666666666666,
              "#ed7953"
             ],
             [
              0.7777777777777778,
              "#fb9f3a"
             ],
             [
              0.8888888888888888,
              "#fdca26"
             ],
             [
              1,
              "#f0f921"
             ]
            ],
            "type": "histogram2dcontour"
           }
          ],
          "mesh3d": [
           {
            "colorbar": {
             "outlinewidth": 0,
             "ticks": ""
            },
            "type": "mesh3d"
           }
          ],
          "parcoords": [
           {
            "line": {
             "colorbar": {
              "outlinewidth": 0,
              "ticks": ""
             }
            },
            "type": "parcoords"
           }
          ],
          "pie": [
           {
            "automargin": true,
            "type": "pie"
           }
          ],
          "scatter": [
           {
            "fillpattern": {
             "fillmode": "overlay",
             "size": 10,
             "solidity": 0.2
            },
            "type": "scatter"
           }
          ],
          "scatter3d": [
           {
            "line": {
             "colorbar": {
              "outlinewidth": 0,
              "ticks": ""
             }
            },
            "marker": {
             "colorbar": {
              "outlinewidth": 0,
              "ticks": ""
             }
            },
            "type": "scatter3d"
           }
          ],
          "scattercarpet": [
           {
            "marker": {
             "colorbar": {
              "outlinewidth": 0,
              "ticks": ""
             }
            },
            "type": "scattercarpet"
           }
          ],
          "scattergeo": [
           {
            "marker": {
             "colorbar": {
              "outlinewidth": 0,
              "ticks": ""
             }
            },
            "type": "scattergeo"
           }
          ],
          "scattergl": [
           {
            "marker": {
             "colorbar": {
              "outlinewidth": 0,
              "ticks": ""
             }
            },
            "type": "scattergl"
           }
          ],
          "scattermapbox": [
           {
            "marker": {
             "colorbar": {
              "outlinewidth": 0,
              "ticks": ""
             }
            },
            "type": "scattermapbox"
           }
          ],
          "scatterpolar": [
           {
            "marker": {
             "colorbar": {
              "outlinewidth": 0,
              "ticks": ""
             }
            },
            "type": "scatterpolar"
           }
          ],
          "scatterpolargl": [
           {
            "marker": {
             "colorbar": {
              "outlinewidth": 0,
              "ticks": ""
             }
            },
            "type": "scatterpolargl"
           }
          ],
          "scatterternary": [
           {
            "marker": {
             "colorbar": {
              "outlinewidth": 0,
              "ticks": ""
             }
            },
            "type": "scatterternary"
           }
          ],
          "surface": [
           {
            "colorbar": {
             "outlinewidth": 0,
             "ticks": ""
            },
            "colorscale": [
             [
              0,
              "#0d0887"
             ],
             [
              0.1111111111111111,
              "#46039f"
             ],
             [
              0.2222222222222222,
              "#7201a8"
             ],
             [
              0.3333333333333333,
              "#9c179e"
             ],
             [
              0.4444444444444444,
              "#bd3786"
             ],
             [
              0.5555555555555556,
              "#d8576b"
             ],
             [
              0.6666666666666666,
              "#ed7953"
             ],
             [
              0.7777777777777778,
              "#fb9f3a"
             ],
             [
              0.8888888888888888,
              "#fdca26"
             ],
             [
              1,
              "#f0f921"
             ]
            ],
            "type": "surface"
           }
          ],
          "table": [
           {
            "cells": {
             "fill": {
              "color": "#EBF0F8"
             },
             "line": {
              "color": "white"
             }
            },
            "header": {
             "fill": {
              "color": "#C8D4E3"
             },
             "line": {
              "color": "white"
             }
            },
            "type": "table"
           }
          ]
         },
         "layout": {
          "annotationdefaults": {
           "arrowcolor": "#2a3f5f",
           "arrowhead": 0,
           "arrowwidth": 1
          },
          "autotypenumbers": "strict",
          "coloraxis": {
           "colorbar": {
            "outlinewidth": 0,
            "ticks": ""
           }
          },
          "colorscale": {
           "diverging": [
            [
             0,
             "#8e0152"
            ],
            [
             0.1,
             "#c51b7d"
            ],
            [
             0.2,
             "#de77ae"
            ],
            [
             0.3,
             "#f1b6da"
            ],
            [
             0.4,
             "#fde0ef"
            ],
            [
             0.5,
             "#f7f7f7"
            ],
            [
             0.6,
             "#e6f5d0"
            ],
            [
             0.7,
             "#b8e186"
            ],
            [
             0.8,
             "#7fbc41"
            ],
            [
             0.9,
             "#4d9221"
            ],
            [
             1,
             "#276419"
            ]
           ],
           "sequential": [
            [
             0,
             "#0d0887"
            ],
            [
             0.1111111111111111,
             "#46039f"
            ],
            [
             0.2222222222222222,
             "#7201a8"
            ],
            [
             0.3333333333333333,
             "#9c179e"
            ],
            [
             0.4444444444444444,
             "#bd3786"
            ],
            [
             0.5555555555555556,
             "#d8576b"
            ],
            [
             0.6666666666666666,
             "#ed7953"
            ],
            [
             0.7777777777777778,
             "#fb9f3a"
            ],
            [
             0.8888888888888888,
             "#fdca26"
            ],
            [
             1,
             "#f0f921"
            ]
           ],
           "sequentialminus": [
            [
             0,
             "#0d0887"
            ],
            [
             0.1111111111111111,
             "#46039f"
            ],
            [
             0.2222222222222222,
             "#7201a8"
            ],
            [
             0.3333333333333333,
             "#9c179e"
            ],
            [
             0.4444444444444444,
             "#bd3786"
            ],
            [
             0.5555555555555556,
             "#d8576b"
            ],
            [
             0.6666666666666666,
             "#ed7953"
            ],
            [
             0.7777777777777778,
             "#fb9f3a"
            ],
            [
             0.8888888888888888,
             "#fdca26"
            ],
            [
             1,
             "#f0f921"
            ]
           ]
          },
          "colorway": [
           "#636efa",
           "#EF553B",
           "#00cc96",
           "#ab63fa",
           "#FFA15A",
           "#19d3f3",
           "#FF6692",
           "#B6E880",
           "#FF97FF",
           "#FECB52"
          ],
          "font": {
           "color": "#2a3f5f"
          },
          "geo": {
           "bgcolor": "white",
           "lakecolor": "white",
           "landcolor": "#E5ECF6",
           "showlakes": true,
           "showland": true,
           "subunitcolor": "white"
          },
          "hoverlabel": {
           "align": "left"
          },
          "hovermode": "closest",
          "mapbox": {
           "style": "light"
          },
          "paper_bgcolor": "white",
          "plot_bgcolor": "#E5ECF6",
          "polar": {
           "angularaxis": {
            "gridcolor": "white",
            "linecolor": "white",
            "ticks": ""
           },
           "bgcolor": "#E5ECF6",
           "radialaxis": {
            "gridcolor": "white",
            "linecolor": "white",
            "ticks": ""
           }
          },
          "scene": {
           "xaxis": {
            "backgroundcolor": "#E5ECF6",
            "gridcolor": "white",
            "gridwidth": 2,
            "linecolor": "white",
            "showbackground": true,
            "ticks": "",
            "zerolinecolor": "white"
           },
           "yaxis": {
            "backgroundcolor": "#E5ECF6",
            "gridcolor": "white",
            "gridwidth": 2,
            "linecolor": "white",
            "showbackground": true,
            "ticks": "",
            "zerolinecolor": "white"
           },
           "zaxis": {
            "backgroundcolor": "#E5ECF6",
            "gridcolor": "white",
            "gridwidth": 2,
            "linecolor": "white",
            "showbackground": true,
            "ticks": "",
            "zerolinecolor": "white"
           }
          },
          "shapedefaults": {
           "line": {
            "color": "#2a3f5f"
           }
          },
          "ternary": {
           "aaxis": {
            "gridcolor": "white",
            "linecolor": "white",
            "ticks": ""
           },
           "baxis": {
            "gridcolor": "white",
            "linecolor": "white",
            "ticks": ""
           },
           "bgcolor": "#E5ECF6",
           "caxis": {
            "gridcolor": "white",
            "linecolor": "white",
            "ticks": ""
           }
          },
          "title": {
           "x": 0.05
          },
          "xaxis": {
           "automargin": true,
           "gridcolor": "white",
           "linecolor": "white",
           "ticks": "",
           "title": {
            "standoff": 15
           },
           "zerolinecolor": "white",
           "zerolinewidth": 2
          },
          "yaxis": {
           "automargin": true,
           "gridcolor": "white",
           "linecolor": "white",
           "ticks": "",
           "title": {
            "standoff": 15
           },
           "zerolinecolor": "white",
           "zerolinewidth": 2
          }
         }
        },
        "title": {
         "font": {
          "color": "black",
          "family": "sans-serif",
          "size": 25
         },
         "text": "Land-based wind power plant assumptions and ranges for key LCOE input parameters",
         "x": 0.5
        },
        "xaxis": {
         "tickangle": -45,
         "title": {
          "text": "Leveleized Cost of Electricity [Reference LCOE = $77/MWh]"
         }
        },
        "yaxis": {
         "tickfont": {
          "size": 14
         },
         "title": {
          "font": {
           "size": 16
          },
          "text": "Key Parameters for LCOE Sensitivity Analysis"
         }
        }
       }
      },
      "text/html": [
       "<div>                            <div id=\"9cb998d0-9ff2-483c-9305-18659ef237b6\" class=\"plotly-graph-div\" style=\"height:500px; width:100%;\"></div>            <script type=\"text/javascript\">                require([\"plotly\"], function(Plotly) {                    window.PLOTLYENV=window.PLOTLYENV || {};                                    if (document.getElementById(\"9cb998d0-9ff2-483c-9305-18659ef237b6\")) {                    Plotly.newPlot(                        \"9cb998d0-9ff2-483c-9305-18659ef237b6\",                        [{\"base\":77,\"marker\":{\"color\":[\"rgb(51,153,255)\",\"rgb(102, 166, 30)\",\"rgb(230, 131, 16)\",\"rgb(153, 153, 153)\",\"rgb(51, 34, 136)\"],\"colorscale\":[[0.0,\"rgb(51,153,255)\"],[0.25,\"rgb(102, 166, 30)\"],[0.5,\"rgb(230, 131, 16)\"],[0.75,\"rgb(153, 153, 153)\"],[1.0,\"rgb(51, 34, 136)\"]],\"line\":{\"width\":1.5}},\"orientation\":\"h\",\"text\":[\"15\",\"6.6\",\"35\",\"166\",\"6059\"],\"textfont\":{\"color\":\"white\"},\"textposition\":\"auto\",\"x\":[23,8,28,13,33],\"y\":[\"Project Design Life (years)\",\"Discount Rate (nominal) [%]\",\"Net Capacity Factor (%)\",\"OpEx ($/kW/yr)\",\"CapEx ($/kW)\"],\"type\":\"bar\"},{\"base\":77,\"marker\":{\"color\":[\"rgb(51,153,255)\",\"rgb(102, 166, 30)\",\"rgb(230, 131, 16)\",\"rgb(153, 153, 153)\",\"rgb(51, 34, 136)\"],\"colorscale\":[[0.0,\"rgb(51,153,255)\"],[0.25,\"rgb(102, 166, 30)\"],[0.5,\"rgb(230, 131, 16)\"],[0.75,\"rgb(153, 153, 153)\"],[1.0,\"rgb(51, 34, 136)\"]]},\"orientation\":\"h\",\"text\":[\"25\",\"5.3\",\"48.9\",\"110\",\"3756\"],\"textfont\":{\"color\":\"white\"},\"textposition\":\"auto\",\"x\":[0.001,0.001,0.001,0.001,0.001],\"y\":[\"Project Design Life (years)\",\"Discount Rate (nominal) [%]\",\"Net Capacity Factor (%)\",\"OpEx ($/kW/yr)\",\"CapEx ($/kW)\"],\"type\":\"bar\"},{\"base\":77,\"marker\":{\"color\":[\"rgb(51,153,255)\",\"rgb(102, 166, 30)\",\"rgb(230, 131, 16)\",\"rgb(153, 153, 153)\",\"rgb(51, 34, 136)\"],\"colorscale\":[[0.0,\"rgb(51,153,255)\"],[0.25,\"rgb(102, 166, 30)\"],[0.5,\"rgb(230, 131, 16)\"],[0.75,\"rgb(153, 153, 153)\"],[1.0,\"rgb(51, 34, 136)\"]]},\"orientation\":\"h\",\"text\":[\"35\",\"4.0\",\"50.0\",\"55\",\"2045\"],\"textfont\":{\"color\":\"white\"},\"textposition\":\"inside\",\"x\":[-4,-7,-2,-12,-27],\"y\":[\"Project Design Life (years)\",\"Discount Rate (nominal) [%]\",\"Net Capacity Factor (%)\",\"OpEx ($/kW/yr)\",\"CapEx ($/kW)\"],\"type\":\"bar\"}],                        {\"template\":{\"data\":{\"histogram2dcontour\":[{\"type\":\"histogram2dcontour\",\"colorbar\":{\"outlinewidth\":0,\"ticks\":\"\"},\"colorscale\":[[0.0,\"#0d0887\"],[0.1111111111111111,\"#46039f\"],[0.2222222222222222,\"#7201a8\"],[0.3333333333333333,\"#9c179e\"],[0.4444444444444444,\"#bd3786\"],[0.5555555555555556,\"#d8576b\"],[0.6666666666666666,\"#ed7953\"],[0.7777777777777778,\"#fb9f3a\"],[0.8888888888888888,\"#fdca26\"],[1.0,\"#f0f921\"]]}],\"choropleth\":[{\"type\":\"choropleth\",\"colorbar\":{\"outlinewidth\":0,\"ticks\":\"\"}}],\"histogram2d\":[{\"type\":\"histogram2d\",\"colorbar\":{\"outlinewidth\":0,\"ticks\":\"\"},\"colorscale\":[[0.0,\"#0d0887\"],[0.1111111111111111,\"#46039f\"],[0.2222222222222222,\"#7201a8\"],[0.3333333333333333,\"#9c179e\"],[0.4444444444444444,\"#bd3786\"],[0.5555555555555556,\"#d8576b\"],[0.6666666666666666,\"#ed7953\"],[0.7777777777777778,\"#fb9f3a\"],[0.8888888888888888,\"#fdca26\"],[1.0,\"#f0f921\"]]}],\"heatmap\":[{\"type\":\"heatmap\",\"colorbar\":{\"outlinewidth\":0,\"ticks\":\"\"},\"colorscale\":[[0.0,\"#0d0887\"],[0.1111111111111111,\"#46039f\"],[0.2222222222222222,\"#7201a8\"],[0.3333333333333333,\"#9c179e\"],[0.4444444444444444,\"#bd3786\"],[0.5555555555555556,\"#d8576b\"],[0.6666666666666666,\"#ed7953\"],[0.7777777777777778,\"#fb9f3a\"],[0.8888888888888888,\"#fdca26\"],[1.0,\"#f0f921\"]]}],\"heatmapgl\":[{\"type\":\"heatmapgl\",\"colorbar\":{\"outlinewidth\":0,\"ticks\":\"\"},\"colorscale\":[[0.0,\"#0d0887\"],[0.1111111111111111,\"#46039f\"],[0.2222222222222222,\"#7201a8\"],[0.3333333333333333,\"#9c179e\"],[0.4444444444444444,\"#bd3786\"],[0.5555555555555556,\"#d8576b\"],[0.6666666666666666,\"#ed7953\"],[0.7777777777777778,\"#fb9f3a\"],[0.8888888888888888,\"#fdca26\"],[1.0,\"#f0f921\"]]}],\"contourcarpet\":[{\"type\":\"contourcarpet\",\"colorbar\":{\"outlinewidth\":0,\"ticks\":\"\"}}],\"contour\":[{\"type\":\"contour\",\"colorbar\":{\"outlinewidth\":0,\"ticks\":\"\"},\"colorscale\":[[0.0,\"#0d0887\"],[0.1111111111111111,\"#46039f\"],[0.2222222222222222,\"#7201a8\"],[0.3333333333333333,\"#9c179e\"],[0.4444444444444444,\"#bd3786\"],[0.5555555555555556,\"#d8576b\"],[0.6666666666666666,\"#ed7953\"],[0.7777777777777778,\"#fb9f3a\"],[0.8888888888888888,\"#fdca26\"],[1.0,\"#f0f921\"]]}],\"surface\":[{\"type\":\"surface\",\"colorbar\":{\"outlinewidth\":0,\"ticks\":\"\"},\"colorscale\":[[0.0,\"#0d0887\"],[0.1111111111111111,\"#46039f\"],[0.2222222222222222,\"#7201a8\"],[0.3333333333333333,\"#9c179e\"],[0.4444444444444444,\"#bd3786\"],[0.5555555555555556,\"#d8576b\"],[0.6666666666666666,\"#ed7953\"],[0.7777777777777778,\"#fb9f3a\"],[0.8888888888888888,\"#fdca26\"],[1.0,\"#f0f921\"]]}],\"mesh3d\":[{\"type\":\"mesh3d\",\"colorbar\":{\"outlinewidth\":0,\"ticks\":\"\"}}],\"scatter\":[{\"fillpattern\":{\"fillmode\":\"overlay\",\"size\":10,\"solidity\":0.2},\"type\":\"scatter\"}],\"parcoords\":[{\"type\":\"parcoords\",\"line\":{\"colorbar\":{\"outlinewidth\":0,\"ticks\":\"\"}}}],\"scatterpolargl\":[{\"type\":\"scatterpolargl\",\"marker\":{\"colorbar\":{\"outlinewidth\":0,\"ticks\":\"\"}}}],\"bar\":[{\"error_x\":{\"color\":\"#2a3f5f\"},\"error_y\":{\"color\":\"#2a3f5f\"},\"marker\":{\"line\":{\"color\":\"#E5ECF6\",\"width\":0.5},\"pattern\":{\"fillmode\":\"overlay\",\"size\":10,\"solidity\":0.2}},\"type\":\"bar\"}],\"scattergeo\":[{\"type\":\"scattergeo\",\"marker\":{\"colorbar\":{\"outlinewidth\":0,\"ticks\":\"\"}}}],\"scatterpolar\":[{\"type\":\"scatterpolar\",\"marker\":{\"colorbar\":{\"outlinewidth\":0,\"ticks\":\"\"}}}],\"histogram\":[{\"marker\":{\"pattern\":{\"fillmode\":\"overlay\",\"size\":10,\"solidity\":0.2}},\"type\":\"histogram\"}],\"scattergl\":[{\"type\":\"scattergl\",\"marker\":{\"colorbar\":{\"outlinewidth\":0,\"ticks\":\"\"}}}],\"scatter3d\":[{\"type\":\"scatter3d\",\"line\":{\"colorbar\":{\"outlinewidth\":0,\"ticks\":\"\"}},\"marker\":{\"colorbar\":{\"outlinewidth\":0,\"ticks\":\"\"}}}],\"scattermapbox\":[{\"type\":\"scattermapbox\",\"marker\":{\"colorbar\":{\"outlinewidth\":0,\"ticks\":\"\"}}}],\"scatterternary\":[{\"type\":\"scatterternary\",\"marker\":{\"colorbar\":{\"outlinewidth\":0,\"ticks\":\"\"}}}],\"scattercarpet\":[{\"type\":\"scattercarpet\",\"marker\":{\"colorbar\":{\"outlinewidth\":0,\"ticks\":\"\"}}}],\"carpet\":[{\"aaxis\":{\"endlinecolor\":\"#2a3f5f\",\"gridcolor\":\"white\",\"linecolor\":\"white\",\"minorgridcolor\":\"white\",\"startlinecolor\":\"#2a3f5f\"},\"baxis\":{\"endlinecolor\":\"#2a3f5f\",\"gridcolor\":\"white\",\"linecolor\":\"white\",\"minorgridcolor\":\"white\",\"startlinecolor\":\"#2a3f5f\"},\"type\":\"carpet\"}],\"table\":[{\"cells\":{\"fill\":{\"color\":\"#EBF0F8\"},\"line\":{\"color\":\"white\"}},\"header\":{\"fill\":{\"color\":\"#C8D4E3\"},\"line\":{\"color\":\"white\"}},\"type\":\"table\"}],\"barpolar\":[{\"marker\":{\"line\":{\"color\":\"#E5ECF6\",\"width\":0.5},\"pattern\":{\"fillmode\":\"overlay\",\"size\":10,\"solidity\":0.2}},\"type\":\"barpolar\"}],\"pie\":[{\"automargin\":true,\"type\":\"pie\"}]},\"layout\":{\"autotypenumbers\":\"strict\",\"colorway\":[\"#636efa\",\"#EF553B\",\"#00cc96\",\"#ab63fa\",\"#FFA15A\",\"#19d3f3\",\"#FF6692\",\"#B6E880\",\"#FF97FF\",\"#FECB52\"],\"font\":{\"color\":\"#2a3f5f\"},\"hovermode\":\"closest\",\"hoverlabel\":{\"align\":\"left\"},\"paper_bgcolor\":\"white\",\"plot_bgcolor\":\"#E5ECF6\",\"polar\":{\"bgcolor\":\"#E5ECF6\",\"angularaxis\":{\"gridcolor\":\"white\",\"linecolor\":\"white\",\"ticks\":\"\"},\"radialaxis\":{\"gridcolor\":\"white\",\"linecolor\":\"white\",\"ticks\":\"\"}},\"ternary\":{\"bgcolor\":\"#E5ECF6\",\"aaxis\":{\"gridcolor\":\"white\",\"linecolor\":\"white\",\"ticks\":\"\"},\"baxis\":{\"gridcolor\":\"white\",\"linecolor\":\"white\",\"ticks\":\"\"},\"caxis\":{\"gridcolor\":\"white\",\"linecolor\":\"white\",\"ticks\":\"\"}},\"coloraxis\":{\"colorbar\":{\"outlinewidth\":0,\"ticks\":\"\"}},\"colorscale\":{\"sequential\":[[0.0,\"#0d0887\"],[0.1111111111111111,\"#46039f\"],[0.2222222222222222,\"#7201a8\"],[0.3333333333333333,\"#9c179e\"],[0.4444444444444444,\"#bd3786\"],[0.5555555555555556,\"#d8576b\"],[0.6666666666666666,\"#ed7953\"],[0.7777777777777778,\"#fb9f3a\"],[0.8888888888888888,\"#fdca26\"],[1.0,\"#f0f921\"]],\"sequentialminus\":[[0.0,\"#0d0887\"],[0.1111111111111111,\"#46039f\"],[0.2222222222222222,\"#7201a8\"],[0.3333333333333333,\"#9c179e\"],[0.4444444444444444,\"#bd3786\"],[0.5555555555555556,\"#d8576b\"],[0.6666666666666666,\"#ed7953\"],[0.7777777777777778,\"#fb9f3a\"],[0.8888888888888888,\"#fdca26\"],[1.0,\"#f0f921\"]],\"diverging\":[[0,\"#8e0152\"],[0.1,\"#c51b7d\"],[0.2,\"#de77ae\"],[0.3,\"#f1b6da\"],[0.4,\"#fde0ef\"],[0.5,\"#f7f7f7\"],[0.6,\"#e6f5d0\"],[0.7,\"#b8e186\"],[0.8,\"#7fbc41\"],[0.9,\"#4d9221\"],[1,\"#276419\"]]},\"xaxis\":{\"gridcolor\":\"white\",\"linecolor\":\"white\",\"ticks\":\"\",\"title\":{\"standoff\":15},\"zerolinecolor\":\"white\",\"automargin\":true,\"zerolinewidth\":2},\"yaxis\":{\"gridcolor\":\"white\",\"linecolor\":\"white\",\"ticks\":\"\",\"title\":{\"standoff\":15},\"zerolinecolor\":\"white\",\"automargin\":true,\"zerolinewidth\":2},\"scene\":{\"xaxis\":{\"backgroundcolor\":\"#E5ECF6\",\"gridcolor\":\"white\",\"linecolor\":\"white\",\"showbackground\":true,\"ticks\":\"\",\"zerolinecolor\":\"white\",\"gridwidth\":2},\"yaxis\":{\"backgroundcolor\":\"#E5ECF6\",\"gridcolor\":\"white\",\"linecolor\":\"white\",\"showbackground\":true,\"ticks\":\"\",\"zerolinecolor\":\"white\",\"gridwidth\":2},\"zaxis\":{\"backgroundcolor\":\"#E5ECF6\",\"gridcolor\":\"white\",\"linecolor\":\"white\",\"showbackground\":true,\"ticks\":\"\",\"zerolinecolor\":\"white\",\"gridwidth\":2}},\"shapedefaults\":{\"line\":{\"color\":\"#2a3f5f\"}},\"annotationdefaults\":{\"arrowcolor\":\"#2a3f5f\",\"arrowhead\":0,\"arrowwidth\":1},\"geo\":{\"bgcolor\":\"white\",\"landcolor\":\"#E5ECF6\",\"subunitcolor\":\"white\",\"showland\":true,\"showlakes\":true,\"lakecolor\":\"white\"},\"title\":{\"x\":0.05},\"mapbox\":{\"style\":\"light\"}}},\"margin\":{\"t\":50,\"l\":10,\"b\":10,\"r\":10},\"title\":{\"font\":{\"family\":\"sans-serif\",\"size\":25,\"color\":\"black\"},\"text\":\"Land-based wind power plant assumptions and ranges for key LCOE input parameters\",\"x\":0.5},\"height\":500,\"xaxis\":{\"tickangle\":-45,\"title\":{\"text\":\"Leveleized Cost of Electricity [Reference LCOE = $77/MWh]\"}},\"yaxis\":{\"title\":{\"text\":\"Key Parameters for LCOE Sensitivity Analysis\",\"font\":{\"size\":16}},\"tickfont\":{\"size\":14}},\"barmode\":\"overlay\",\"bargap\":0.3,\"paper_bgcolor\":\"white\",\"plot_bgcolor\":\"white\",\"showlegend\":false},                        {\"responsive\": true}                    ).then(function(){\n",
       "                            \n",
       "var gd = document.getElementById('9cb998d0-9ff2-483c-9305-18659ef237b6');\n",
       "var x = new MutationObserver(function (mutations, observer) {{\n",
       "        var display = window.getComputedStyle(gd).display;\n",
       "        if (!display || display === 'none') {{\n",
       "            console.log([gd, 'removed!']);\n",
       "            Plotly.purge(gd);\n",
       "            observer.disconnect();\n",
       "        }}\n",
       "}});\n",
       "\n",
       "// Listen for the removal of the full notebook cells\n",
       "var notebookContainer = gd.closest('#notebook-container');\n",
       "if (notebookContainer) {{\n",
       "    x.observe(notebookContainer, {childList: true});\n",
       "}}\n",
       "\n",
       "// Listen for the clearing of the current output cell\n",
       "var outputEl = gd.closest('.output');\n",
       "if (outputEl) {{\n",
       "    x.observe(outputEl, {childList: true});\n",
       "}}\n",
       "\n",
       "                        })                };                });            </script>        </div>"
      ]
     },
     "metadata": {},
     "output_type": "display_data"
    }
   ],
   "source": [
    "# Tornado chart template obtained from \n",
    "# https://python.plainenglish.io/how-to-create-a-beautify-tornado-chart-in-python-plotly-6c0519e185b4\n",
    "\n",
    "import numpy as np\n",
    "import pandas as pd\n",
    "import matplotlib.pyplot as plt\n",
    "import plotly.graph_objects as go\n",
    "%matplotlib inline\n",
    "\n",
    "lcoe = 77    # $/MWh\n",
    "y_labels = ['Project Design Life (years)',\n",
    "         'Discount Rate (nominal) [%]',\n",
    "         'Net Capacity Factor (%)',\n",
    "         'OpEx ($/kW/yr)',\n",
    "         'CapEx ($/kW)']\n",
    "\n",
    "\n",
    "upper_capex = 110\n",
    "upper_opex = 90\n",
    "upper_net_cf = 105\n",
    "upper_discount_rate = 85\n",
    "upper_project_design_life = 100\n",
    "upper_bound = [upper_project_design_life, \n",
    "               upper_discount_rate, \n",
    "               upper_net_cf,\n",
    "               upper_opex,\n",
    "               upper_capex]\n",
    "\n",
    "# Values to go into bar labels\n",
    "upper_capex_label = 6059\n",
    "upper_opex_label = 166\n",
    "upper_net_cf_label = 35\n",
    "upper_discount_rate_label = 6.61\n",
    "upper_project_design_life_label = 15\n",
    "upper_bound_label = [upper_project_design_life_label, \n",
    "                    upper_discount_rate_label, \n",
    "                    upper_net_cf_label,\n",
    "                    upper_opex_label,\n",
    "                    upper_capex_label]\n",
    "\n",
    "# ajdust for lcoe \n",
    "upper_bound_lcoe_adjustment = [x - lcoe for x in upper_bound]\n",
    "\n",
    "lower_capex = lcoe - 50\n",
    "lower_opex = lcoe - 65\n",
    "lower_net_cf = lcoe - 75\n",
    "lower_discount_rate = lcoe - 70\n",
    "lower_project_design_life = lcoe - 73\n",
    "lower_bound = [lower_project_design_life, \n",
    "               lower_discount_rate, \n",
    "               lower_net_cf,\n",
    "               lower_opex,\n",
    "               lower_capex]\n",
    "\n",
    "# Values to go into bar labels\n",
    "lower_capex_label = 2045\n",
    "lower_opex_label = 55\n",
    "lower_net_cf_label = 50.0\n",
    "lower_discount_rate_label = 3.97\n",
    "lower_project_design_life_label = 35\n",
    "lower_bound_label = [lower_project_design_life_label, \n",
    "                    lower_discount_rate_label, \n",
    "                    lower_net_cf_label,\n",
    "                    lower_opex_label,\n",
    "                    lower_capex_label]\n",
    "\n",
    "# Values for reference case\n",
    "base_capex = 0.001\n",
    "base_opex = 0.001\n",
    "base_net_cf = 0.001\n",
    "base_discount_rate = 0.001\n",
    "base_project_design_life = 0.001\n",
    "base_bound = [base_project_design_life, \n",
    "               base_discount_rate, \n",
    "               base_net_cf,\n",
    "               base_opex,\n",
    "               base_capex]\n",
    "\n",
    "# Values to go into bar labels (reference)\n",
    "base_capex_label = 3756\n",
    "base_opex_label = 110\n",
    "base_net_cf_label = 48.9\n",
    "base_discount_rate_label = 5.29\n",
    "base_project_design_life_label = 25\n",
    "base_bound_label = [base_project_design_life_label, \n",
    "                    base_discount_rate_label, \n",
    "                    base_net_cf_label,\n",
    "                    base_opex_label,\n",
    "                    base_capex_label]\n",
    "\n",
    "#convert lower_bound to negative values\n",
    "def Convert(lst):\n",
    "    return [ -i for i in lst ]\n",
    "\n",
    "negative_lower_bound = Convert(lower_bound)\n",
    "# ajdust for lcoe \n",
    "negative_lower_bound_lcoe_adjustment = [x + lcoe for x in negative_lower_bound]\n",
    "\n",
    "fig = go.Figure()\n",
    "\n",
    "\n",
    "\n",
    "customscale=[\"rgb(51,153,255)\",\n",
    "            \"rgb(102, 166, 30)\",\n",
    "            \"rgb(230, 131, 16)\", \n",
    "            \"rgb(153, 153, 153)\",\n",
    "            \"rgb(51, 34, 136)\"]\n",
    "z = customscale\n",
    "\n",
    "fig.add_trace(go.Bar(y=y_labels, x=upper_bound_lcoe_adjustment,\n",
    "                base=lcoe,\n",
    "                marker=dict(color = z, colorscale=customscale),\n",
    "                orientation='h',\n",
    "                marker_line_width=1.5,\n",
    "                text = [round(elem, 1) for elem in upper_bound_label],\n",
    "                textposition='auto',\n",
    "                textfont=dict(color=\"white\")\n",
    "                    ))\n",
    "\n",
    "fig.add_trace(go.Bar(y=y_labels, x=base_bound,\n",
    "                base= lcoe,\n",
    "                marker=dict(color = z, colorscale=customscale),\n",
    "                orientation='h',\n",
    "                text = [round(elem, 1) for elem in base_bound_label],\n",
    "                textposition='auto',\n",
    "                textfont=dict(color=\"white\")\n",
    "              ))\n",
    "\n",
    "fig.add_trace(go.Bar(y=y_labels, x=negative_lower_bound,\n",
    "                base= lcoe,\n",
    "                marker=dict(color = z, colorscale=customscale),\n",
    "                orientation='h',\n",
    "                text = [round(elem, 1) for elem in lower_bound_label],\n",
    "                textposition='inside',\n",
    "                textfont=dict(color=\"white\")\n",
    "              ))\n",
    "\n",
    "fig.update_layout(height=500,\n",
    "                  margin=dict(t=50,l=10,b=10,r=10),title_text=\"Land-based wind power plant assumptions and ranges for key LCOE input parameters\",\n",
    "                  title_font_family=\"sans-serif\",\n",
    "                  title_font_size = 25,\n",
    "                  title_font_color=\"black\",\n",
    "                  title_x=0.5 #to adjust the position along x-axis of the title\n",
    "                 )\n",
    "\n",
    "fig.update_layout(\n",
    "                  barmode='overlay', \n",
    "                  xaxis_tickangle=-45, \n",
    "                  xaxis=dict(\n",
    "                      title=\"Leveleized Cost of Electricity [Reference LCOE = $\" + str(lcoe) +  \"/MWh]\"),\n",
    "                  yaxis=dict(\n",
    "                             title='Key Parameters for LCOE Sensitivity Analysis', \n",
    "                             titlefont_size=16, \n",
    "                             tickfont_size=14),\n",
    "                  bargap=0.30, \n",
    "                  paper_bgcolor='white',\n",
    "                  plot_bgcolor='white',\n",
    "                 )\n",
    "fig.update(layout_showlegend=False)\n",
    "# fig.savefig(path + 'fig_es6.eps', format='eps', dpi=1000)\n",
    "fig.write_image(path + 'fig_es6.eps', scale=1, width=1000, height=800)\n",
    "fig.show()"
   ]
  },
  {
   "cell_type": "code",
   "execution_count": null,
   "id": "1ffcf2c3",
   "metadata": {},
   "outputs": [],
   "source": []
  },
  {
   "cell_type": "code",
   "execution_count": null,
   "id": "915c71a2",
   "metadata": {},
   "outputs": [],
   "source": []
  }
 ],
 "metadata": {
  "kernelspec": {
   "display_name": "Python 3 (ipykernel)",
   "language": "python",
   "name": "python3"
  },
  "language_info": {
   "codemirror_mode": {
    "name": "ipython",
    "version": 3
   },
   "file_extension": ".py",
   "mimetype": "text/x-python",
   "name": "python",
   "nbconvert_exporter": "python",
   "pygments_lexer": "ipython3",
   "version": "3.7.13"
  }
 },
 "nbformat": 4,
 "nbformat_minor": 5
}
