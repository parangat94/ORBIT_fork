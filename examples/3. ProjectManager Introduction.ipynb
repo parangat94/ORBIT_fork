{
 "cells": [
  {
   "cell_type": "markdown",
   "metadata": {},
   "source": [
    "### ProjectManager\n",
    "\n",
    "ProjectManager is used to interact with multiple modules within ORBIT. This class allows any combination of modules to be configured and ran together to represent an entire project in ORBIT. It handles the configuration of each module and maps outputs of design modules into installation modules where necessary. This tutorial goes through how to build up a project level configuration using ProjectManager."
   ]
  },
  {
   "cell_type": "code",
   "execution_count": 1,
   "metadata": {},
   "outputs": [],
   "source": [
    "from ORBIT import ProjectManager"
   ]
  },
  {
   "cell_type": "code",
   "execution_count": 2,
   "metadata": {},
   "outputs": [
    {
     "data": {
      "text/plain": [
       "{'wtiv': 'dict | str',\n",
       " 'feeder': 'dict | str (optional)',\n",
       " 'num_feeders': 'int (optional)',\n",
       " 'site': {'depth': 'm', 'distance': 'km', 'mean_windspeed': 'm/s'},\n",
       " 'plant': {'num_turbines': 'int'},\n",
       " 'turbine': {'hub_height': 'm',\n",
       "  'rotor_diameter': 'm',\n",
       "  'rated_windspeed': 'm/s'},\n",
       " 'port': {'num_cranes': 'int (optional, default: 1)',\n",
       "  'monthly_rate': 'USD/mo (optional)',\n",
       "  'name': 'str (optional)'},\n",
       " 'monopile_design': {'yield_stress': 'Pa (optional)',\n",
       "  'load_factor': 'float (optional)',\n",
       "  'material_factor': 'float (optional)',\n",
       "  'monopile_density': 'kg/m3 (optional)',\n",
       "  'monopile_modulus': 'Pa (optional)',\n",
       "  'monopile_tp_connection_thickness': 'm (optional)',\n",
       "  'transition_piece_density': 'kg/m3 (optional)',\n",
       "  'transition_piece_thickness': 'm (optional)',\n",
       "  'transition_piece_length': 'm (optional)',\n",
       "  'soil_coefficient': 'N/m3 (optional)',\n",
       "  'air_density': 'kg/m3 (optional)',\n",
       "  'weibull_scale_factor': 'float (optional)',\n",
       "  'weibull_shape_factor': 'float (optional)',\n",
       "  'turb_length_scale': 'm (optional)',\n",
       "  'monopile_steel_cost': 'USD/t (optional)',\n",
       "  'tp_steel_cost': 'USD/t (optional)'},\n",
       " 'project_parameters': {'turbine_capex': '$/kW (optional, default: 1300)',\n",
       "  'ncf': 'float (optional, default: 0.4)',\n",
       "  'offtake_price': '$/MWh (optional, default: 80)',\n",
       "  'project_lifetime': 'yrs (optional, default: 25)',\n",
       "  'discount_rate': 'yearly (optional, default: .025)',\n",
       "  'opex_rate': '$/kW/year (optional, default: 150)',\n",
       "  'construction_insurance': '$/kW (optional, default: 44)',\n",
       "  'construction_financing': '$/kW (optional, default: 183)',\n",
       "  'contingency': '$/kW (optional, default: 316)',\n",
       "  'commissioning': '$/kW (optional, default: 44)',\n",
       "  'decommissioning': '$/kW (optional, default: 58)',\n",
       "  'site_auction_price': '$ (optional, default: 100e6)',\n",
       "  'site_assessment_cost': '$ (optional, default: 50e6)',\n",
       "  'construction_plan_cost': '$ (optional, default: 1e6)',\n",
       "  'installation_plan_cost': '$ (optional, default: 0.25e6)'},\n",
       " 'design_phases': ['MonopileDesign'],\n",
       " 'install_phases': ['MonopileInstallation'],\n",
       " 'orbit_version': 'v1.0.4+31.gcce6116'}"
      ]
     },
     "execution_count": 2,
     "metadata": {},
     "output_type": "execute_result"
    }
   ],
   "source": [
    "# The compile expected configs for multiple modules within ProjectManager, use the 'compile_input_dict' method:\n",
    "# In this example, we'll configure ProjectManager to run the MonopileDesign and MonopileInstallation modules.\n",
    "\n",
    "ProjectManager.compile_input_dict([\"MonopileDesign\", \"MonopileInstallation\"])"
   ]
  },
  {
   "cell_type": "code",
   "execution_count": 3,
   "metadata": {},
   "outputs": [
    {
     "name": "stdout",
     "output_type": "stream",
     "text": [
      "ORBIT library intialized at '/Users/pbhaskar/Desktop/Projects/orbit/ORBIT/library'\n",
      "Total Substructure Cost: 258.67 M\n",
      "Total Installation Cost:  21.88 M\n"
     ]
    }
   ],
   "source": [
    "# For simplicity, we are going to ignore the optional 'monopile_design' and 'project_parameters' subdicts.\n",
    "\n",
    "config = {\n",
    "    'wtiv': 'example_wtiv',\n",
    "    'site': {                   # The inputs required for the design module and\n",
    "        'depth': 20,            # the installation module are combined into the 'site' subdict\n",
    "        'distance': 50,\n",
    "        'mean_windspeed': 9.5\n",
    "    },\n",
    "    \n",
    "    'plant': {\n",
    "        'num_turbines': 50\n",
    "    },\n",
    "    \n",
    "    'turbine': {\n",
    "        'rotor_diameter': 220,\n",
    "        'hub_height': 120,\n",
    "        'rated_windspeed': 13\n",
    "    },\n",
    "    \n",
    "    # Sizing information for the substructure are not required as they will\n",
    "    # be calculated by 'MonopileDesign' and passed into 'MonopileInstallation'\n",
    "    # automatically by 'ProjecManager'.\n",
    "    \n",
    "    # --- Module Definitions ---\n",
    "    'design_phases': ['MonopileDesign'],\n",
    "    'install_phases': ['MonopileInstallation'],\n",
    "}\n",
    "\n",
    "project = ProjectManager(config)\n",
    "project.run()\n",
    "\n",
    "print(f\"Total Substructure Cost: {project.system_capex/1e6:.2f} M\")\n",
    "print(f\"Total Installation Cost:  {project.installation_capex/1e6:.2f} M\")"
   ]
  },
  {
   "cell_type": "markdown",
   "metadata": {},
   "source": [
    "#### Weather"
   ]
  },
  {
   "cell_type": "code",
   "execution_count": 4,
   "metadata": {},
   "outputs": [
    {
     "name": "stdout",
     "output_type": "stream",
     "text": [
      "Total Substructure Cost: 258.67 M\n",
      "Total Installation Cost:  27.95 M\n"
     ]
    }
   ],
   "source": [
    "# Weather can be included in the same way as an individual module:\n",
    "import pandas as pd\n",
    "weather = pd.read_csv(\"data/example_weather.csv\", parse_dates=['datetime']).set_index(\"datetime\")\n",
    "\n",
    "project = ProjectManager(config, weather=weather)\n",
    "project.run()\n",
    "\n",
    "print(f\"Total Substructure Cost: {project.system_capex/1e6:.2f} M\")\n",
    "print(f\"Total Installation Cost:  {project.installation_capex/1e6:.2f} M\")"
   ]
  },
  {
   "cell_type": "code",
   "execution_count": null,
   "metadata": {},
   "outputs": [],
   "source": []
  }
 ],
 "metadata": {
  "kernelspec": {
   "display_name": "Python 3 (ipykernel)",
   "language": "python",
   "name": "python3"
  },
  "language_info": {
   "codemirror_mode": {
    "name": "ipython",
    "version": 3
   },
   "file_extension": ".py",
   "mimetype": "text/x-python",
   "name": "python",
   "nbconvert_exporter": "python",
   "pygments_lexer": "ipython3",
   "version": "3.7.13"
  }
 },
 "nbformat": 4,
 "nbformat_minor": 4
}
