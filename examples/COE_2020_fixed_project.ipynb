{
 "cells": [
  {
   "cell_type": "markdown",
   "metadata": {},
   "source": [
    "#### Patrick Duffy\n",
    "\n",
    "National Renewable Energy Lab\n",
    "COE Review 2020 - Fixed Bottom\n",
    "Last updated: 2021/9/21"
   ]
  },
  {
   "cell_type": "code",
   "execution_count": 18,
   "metadata": {},
   "outputs": [],
   "source": [
    "import pandas as pd\n",
    "from ORBIT import ProjectManager, load_config\n",
    "from construction_finance_param import con_fin_params"
   ]
  },
  {
   "cell_type": "markdown",
   "metadata": {},
   "source": [
    "### Load and check the project configuration"
   ]
  },
  {
   "cell_type": "code",
   "execution_count": 19,
   "metadata": {},
   "outputs": [
    {
     "name": "stdout",
     "output_type": "stream",
     "text": [
      "Num turbines: 75\n",
      "Turbine: COE_2020_8MW\n",
      "\n",
      "Site: {'depth': 34.0, 'distance': 116, 'distance_to_landfall': 50, 'mean_windspeed': 9.03}\n",
      "\n",
      "Design phases: ['ArraySystemDesign', 'MonopileDesign', 'ScourProtectionDesign', 'ExportSystemDesign', 'OffshoreSubstationDesign']\n",
      "\n",
      "Install phases: ['ArrayCableInstallation', 'ExportCableInstallation', 'MonopileInstallation', 'OffshoreSubstationInstallation', 'ScourProtectionInstallation', 'TurbineInstallation']\n"
     ]
    }
   ],
   "source": [
    "fixed_config = load_config(\"COE_2020_fixed_project.yaml\") \n",
    "\n",
    "print(f\"Num turbines: {fixed_config['plant']['num_turbines']}\")\n",
    "print(f\"Turbine: {fixed_config['turbine']}\")\n",
    "print(f\"\\nSite: {fixed_config['site']}\")\n",
    "print(f\"\\nDesign phases: {fixed_config['design_phases']}\")\n",
    "print(f\"\\nInstall phases: {list(fixed_config['install_phases'].keys())}\")"
   ]
  },
  {
   "cell_type": "markdown",
   "metadata": {},
   "source": [
    "### Run"
   ]
  },
  {
   "cell_type": "code",
   "execution_count": 20,
   "metadata": {},
   "outputs": [],
   "source": [
    "project = ProjectManager(fixed_config)\n",
    "d = 0.3 # includes 30% downtime factor during construction to match ORCA\n",
    "project.run(availability=1-d)"
   ]
  },
  {
   "cell_type": "markdown",
   "metadata": {},
   "source": [
    "### Top Level Outputs"
   ]
  },
  {
   "cell_type": "code",
   "execution_count": 21,
   "metadata": {},
   "outputs": [
    {
     "name": "stdout",
     "output_type": "stream",
     "text": [
      "Installation CapEx:  564.19\n",
      "System CapEx:        862.24\n",
      "BOS CapEx:           1426.43\n",
      "Turbine CapEx:       1300.00\n"
     ]
    }
   ],
   "source": [
    "print(f\"Installation CapEx:  {project.installation_capex_per_kw:.2f}\")\n",
    "print(f\"System CapEx:        {project.system_capex_per_kw:.2f}\")\n",
    "print(f\"BOS CapEx:           {project.bos_capex_per_kw:.2f}\")\n",
    "print(f\"Turbine CapEx:       {project.turbine_capex_per_kw:.2f}\")"
   ]
  },
  {
   "cell_type": "code",
   "execution_count": 22,
   "metadata": {},
   "outputs": [],
   "source": [
    "dct = project.capex_breakdown_per_kw\n",
    "dct = {k:[v] for k,v in dct.items()}\n",
    "df = pd.DataFrame.from_dict(dct, orient=\"columns\")\n",
    "\n",
    "soft_dct = con_fin_params(bos=project.bos_capex, \n",
    "               turbine_capex=project.turbine_capex,\n",
    "               orbit_install_capex=project.installation_capex,\n",
    "               plant_cap=600000)\n",
    "\n",
    "for k,v in soft_dct.items():\n",
    "    if k != \"soft_capex\":\n",
    "        df[k] = v\n",
    "    else:\n",
    "        df[\"Soft\"] = v\n",
    "df = df.T\n",
    "df.to_csv(\"COE_fixed_result.csv\")"
   ]
  },
  {
   "cell_type": "code",
   "execution_count": 23,
   "metadata": {},
   "outputs": [
    {
     "data": {
      "text/plain": [
       "{'total_monopile_mass': 53482.29253004964,\n",
       " 'total_monopile_cost': 160446877.59014893,\n",
       " 'total_transition_piece_mass': 36308.48332393459,\n",
       " 'total_transition_piece_cost': 108925449.97180377}"
      ]
     },
     "execution_count": 23,
     "metadata": {},
     "output_type": "execute_result"
    }
   ],
   "source": [
    "x = project.phases[\"MonopileDesign\"]\n",
    "x.detailed_output"
   ]
  },
  {
   "cell_type": "code",
   "execution_count": 24,
   "metadata": {},
   "outputs": [
    {
     "name": "stdout",
     "output_type": "stream",
     "text": [
      "MP 267.41146265000003\n",
      "TP 181.54241661666666\n"
     ]
    }
   ],
   "source": [
    "print(\"MP\", 160446877.59/600000)\n",
    "print(\"TP\", 108925449.97/600000)"
   ]
  },
  {
   "cell_type": "code",
   "execution_count": null,
   "metadata": {},
   "outputs": [],
   "source": []
  }
 ],
 "metadata": {
  "interpreter": {
   "hash": "af4f01e5260031a38e74f542585515b6f3faa380f4590a784df38501f6339432"
  },
  "kernelspec": {
   "display_name": "Python 3 (ipykernel)",
   "language": "python",
   "name": "python3"
  },
  "language_info": {
   "codemirror_mode": {
    "name": "ipython",
    "version": 3
   },
   "file_extension": ".py",
   "mimetype": "text/x-python",
   "name": "python",
   "nbconvert_exporter": "python",
   "pygments_lexer": "ipython3",
   "version": "3.7.13"
  }
 },
 "nbformat": 4,
 "nbformat_minor": 4
}
